{
  "cells": [
    {
      "cell_type": "markdown",
      "metadata": {
        "id": "0tvAKGat01Sd"
      },
      "source": [
        "# **Penting**\n",
        "- Pastikan Anda melakukan Run All sebelum mengirimkan submission untuk memastikan seluruh cell berjalan dengan baik.\n",
        "- Hapus simbol pagar (#) jika Anda menerapkan kriteria tambahan\n",
        "- Biarkan simbol pagar (#) jika Anda tidak menerapkan kriteria tambahan"
      ]
    },
    {
      "cell_type": "markdown",
      "metadata": {
        "id": "sKi5D9qVVJvY"
      },
      "source": [
        "# **INFORMASI DATASET**\n",
        "## Latar Belakang\n",
        "\n",
        "Dalam dunia bisnis ritel, pemahaman terhadap perilaku pelanggan menjadi salah satu faktor krusial dalam menentukan strategi pemasaran, peningkatan layanan, serta pengambilan keputusan berbasis data. Salah satu pendekatan yang umum digunakan untuk memahami perilaku pelanggan adalah melalui segmentasi, yaitu proses pengelompokan pelanggan ke dalam beberapa segmen atau kelompok berdasarkan karakteristik tertentu.\n",
        "\n",
        "Dengan menerapkan metode **unsupervised learning**, khususnya **clustering**, proyek ini bertujuan untuk membentuk segmentasi pelanggan yang merepresentasikan pola-pola pembelian yang serupa. Hasil segmentasi ini diharapkan dapat memberikan insight yang bernilai bagi pihak manajemen, khususnya dalam menyusun strategi promosi yang lebih tepat sasaran, mengembangkan program loyalitas, serta mengoptimalkan layanan pelanggan."
      ]
    },
    {
      "cell_type": "markdown",
      "metadata": {
        "id": "fKADPWcFKlj3"
      },
      "source": [
        "# **1. Import Library**\n",
        "Pada tahap ini, Anda perlu mengimpor beberapa pustaka (library) Python yang dibutuhkan untuk analisis data dan pembangunan model machine learning. Semua library yang dibutuhkan harus **import** di **cell** ini, jika ada library yang dijalankan di cell lain maka **submission langsung ditolak**"
      ]
    },
    {
      "cell_type": "code",
      "execution_count": 1,
      "metadata": {
        "id": "BlmvjLY9M4Yj"
      },
      "outputs": [
        {
          "name": "stdout",
          "output_type": "stream",
          "text": [
            "Library berhasil di-import.\n"
          ]
        }
      ],
      "source": [
        "# ## 1. Import Library\n",
        "\n",
        "import pandas as pd\n",
        "import numpy as np\n",
        "import matplotlib.pyplot as plt\n",
        "import seaborn as sns\n",
        "\n",
        "from sklearn.preprocessing import MinMaxScaler, LabelEncoder\n",
        "from sklearn.cluster import KMeans\n",
        "from yellowbrick.cluster import KElbowVisualizer\n",
        "from sklearn.metrics import silhouette_score\n",
        "import joblib\n",
        "\n",
        "import warnings\n",
        "warnings.filterwarnings('ignore')\n",
        "\n",
        "print(\"Library berhasil di-import.\")"
      ]
    },
    {
      "cell_type": "markdown",
      "metadata": {
        "id": "f3YIEnAFKrKL"
      },
      "source": [
        "# **2. Memuat Dataset**\n",
        "Pada tahap ini, Anda perlu memuat dataset ke dalam notebook lalu mengecek informasi dataset sebelum nantinya dilakukan pembersihan. Hal-hal yang perlu dilakukan pada tahapan ini yaitu:\n",
        "1. **Memahami Struktur Data**\n",
        "   - Dataset harus mengambil referensi wajib digunakan (bisa dilihat [Disini](https://drive.google.com/drive/folders/1Zs7VmPZ-jNwsRlMKH65Ea-LApSwx6lKx?usp=drive_link))\n",
        "   - Melakukan loading dataset ke dalam notebook dan menampilkan 5 baris pertama dengan function `head`.\n",
        "   - Tinjau jumlah baris kolom dan jenis data dalam dataset dengan function `info`.  \n",
        "   - Menampilkan statistik deskriptif dataset dengan menjalankan `describe`.\n",
        "   - Pastikan **setiap function tersebut** memiliki **output pada setiap cell** code. Jika tidak **submission langsung ditolak**\n",
        "   "
      ]
    },
    {
      "cell_type": "markdown",
      "metadata": {
        "id": "JgKXTwx2LMQA"
      },
      "source": [
        "Gunakan code ini untuk melakukan load data secara otomatis tanpa harus download data tersebut secara manual:\n",
        "```python\n",
        "url='https://drive.google.com/uc?id=1gnLO9qvEPqv1uBt1928AcsCmdvzqjC5m'\n",
        "df = pd.read_csv(url)\n",
        "```\n"
      ]
    },
    {
      "cell_type": "code",
      "execution_count": 2,
      "metadata": {},
      "outputs": [
        {
          "name": "stdout",
          "output_type": "stream",
          "text": [
            "Dataset berhasil dimuat.\n"
          ]
        }
      ],
      "source": [
        "# ## 2. Memuat Dataset\n",
        "\n",
        "# Gunakan code ini untuk melakukan load data secara otomatis\n",
        "url='https://drive.google.com/uc?id=1gnLO9qvEPqv1uBt1928AcsCmdvzqjC5m'\n",
        "df = pd.read_csv(url)\n",
        "\n",
        "print(\"Dataset berhasil dimuat.\")"
      ]
    },
    {
      "cell_type": "code",
      "execution_count": 3,
      "metadata": {
        "colab": {
          "base_uri": "https://localhost:8080/",
          "height": 313
        },
        "id": "GHCGNTyrM5fS",
        "outputId": "e83f1b59-43b7-4668-97c1-8b2ad10b86b9"
      },
      "outputs": [
        {
          "data": {
            "text/html": [
              "<div>\n",
              "<style scoped>\n",
              "    .dataframe tbody tr th:only-of-type {\n",
              "        vertical-align: middle;\n",
              "    }\n",
              "\n",
              "    .dataframe tbody tr th {\n",
              "        vertical-align: top;\n",
              "    }\n",
              "\n",
              "    .dataframe thead th {\n",
              "        text-align: right;\n",
              "    }\n",
              "</style>\n",
              "<table border=\"1\" class=\"dataframe\">\n",
              "  <thead>\n",
              "    <tr style=\"text-align: right;\">\n",
              "      <th></th>\n",
              "      <th>TransactionID</th>\n",
              "      <th>AccountID</th>\n",
              "      <th>TransactionAmount</th>\n",
              "      <th>TransactionDate</th>\n",
              "      <th>TransactionType</th>\n",
              "      <th>Location</th>\n",
              "      <th>DeviceID</th>\n",
              "      <th>IP Address</th>\n",
              "      <th>MerchantID</th>\n",
              "      <th>Channel</th>\n",
              "      <th>CustomerAge</th>\n",
              "      <th>CustomerOccupation</th>\n",
              "      <th>TransactionDuration</th>\n",
              "      <th>LoginAttempts</th>\n",
              "      <th>AccountBalance</th>\n",
              "      <th>PreviousTransactionDate</th>\n",
              "    </tr>\n",
              "  </thead>\n",
              "  <tbody>\n",
              "    <tr>\n",
              "      <th>0</th>\n",
              "      <td>TX000001</td>\n",
              "      <td>AC00128</td>\n",
              "      <td>14.09</td>\n",
              "      <td>2023-04-11 16:29:14</td>\n",
              "      <td>Debit</td>\n",
              "      <td>San Diego</td>\n",
              "      <td>D000380</td>\n",
              "      <td>162.198.218.92</td>\n",
              "      <td>M015</td>\n",
              "      <td>ATM</td>\n",
              "      <td>70.0</td>\n",
              "      <td>Doctor</td>\n",
              "      <td>81.0</td>\n",
              "      <td>1.0</td>\n",
              "      <td>5112.21</td>\n",
              "      <td>2024-11-04 08:08:08</td>\n",
              "    </tr>\n",
              "    <tr>\n",
              "      <th>1</th>\n",
              "      <td>TX000002</td>\n",
              "      <td>AC00455</td>\n",
              "      <td>376.24</td>\n",
              "      <td>2023-06-27 16:44:19</td>\n",
              "      <td>Debit</td>\n",
              "      <td>Houston</td>\n",
              "      <td>D000051</td>\n",
              "      <td>13.149.61.4</td>\n",
              "      <td>M052</td>\n",
              "      <td>ATM</td>\n",
              "      <td>68.0</td>\n",
              "      <td>Doctor</td>\n",
              "      <td>141.0</td>\n",
              "      <td>1.0</td>\n",
              "      <td>13758.91</td>\n",
              "      <td>2024-11-04 08:09:35</td>\n",
              "    </tr>\n",
              "    <tr>\n",
              "      <th>2</th>\n",
              "      <td>TX000003</td>\n",
              "      <td>AC00019</td>\n",
              "      <td>126.29</td>\n",
              "      <td>2023-07-10 18:16:08</td>\n",
              "      <td>Debit</td>\n",
              "      <td>Mesa</td>\n",
              "      <td>D000235</td>\n",
              "      <td>215.97.143.157</td>\n",
              "      <td>M009</td>\n",
              "      <td>Online</td>\n",
              "      <td>19.0</td>\n",
              "      <td>Student</td>\n",
              "      <td>56.0</td>\n",
              "      <td>1.0</td>\n",
              "      <td>1122.35</td>\n",
              "      <td>2024-11-04 08:07:04</td>\n",
              "    </tr>\n",
              "    <tr>\n",
              "      <th>3</th>\n",
              "      <td>TX000004</td>\n",
              "      <td>AC00070</td>\n",
              "      <td>184.50</td>\n",
              "      <td>2023-05-05 16:32:11</td>\n",
              "      <td>Debit</td>\n",
              "      <td>Raleigh</td>\n",
              "      <td>D000187</td>\n",
              "      <td>200.13.225.150</td>\n",
              "      <td>M002</td>\n",
              "      <td>Online</td>\n",
              "      <td>26.0</td>\n",
              "      <td>Student</td>\n",
              "      <td>25.0</td>\n",
              "      <td>1.0</td>\n",
              "      <td>8569.06</td>\n",
              "      <td>2024-11-04 08:09:06</td>\n",
              "    </tr>\n",
              "    <tr>\n",
              "      <th>4</th>\n",
              "      <td>TX000005</td>\n",
              "      <td>AC00411</td>\n",
              "      <td>13.45</td>\n",
              "      <td>2023-10-16 17:51:24</td>\n",
              "      <td>Credit</td>\n",
              "      <td>Atlanta</td>\n",
              "      <td>D000308</td>\n",
              "      <td>65.164.3.100</td>\n",
              "      <td>M091</td>\n",
              "      <td>Online</td>\n",
              "      <td>NaN</td>\n",
              "      <td>Student</td>\n",
              "      <td>198.0</td>\n",
              "      <td>1.0</td>\n",
              "      <td>7429.40</td>\n",
              "      <td>2024-11-04 08:06:39</td>\n",
              "    </tr>\n",
              "  </tbody>\n",
              "</table>\n",
              "</div>"
            ],
            "text/plain": [
              "  TransactionID AccountID  TransactionAmount      TransactionDate  \\\n",
              "0      TX000001   AC00128              14.09  2023-04-11 16:29:14   \n",
              "1      TX000002   AC00455             376.24  2023-06-27 16:44:19   \n",
              "2      TX000003   AC00019             126.29  2023-07-10 18:16:08   \n",
              "3      TX000004   AC00070             184.50  2023-05-05 16:32:11   \n",
              "4      TX000005   AC00411              13.45  2023-10-16 17:51:24   \n",
              "\n",
              "  TransactionType   Location DeviceID      IP Address MerchantID Channel  \\\n",
              "0           Debit  San Diego  D000380  162.198.218.92       M015     ATM   \n",
              "1           Debit    Houston  D000051     13.149.61.4       M052     ATM   \n",
              "2           Debit       Mesa  D000235  215.97.143.157       M009  Online   \n",
              "3           Debit    Raleigh  D000187  200.13.225.150       M002  Online   \n",
              "4          Credit    Atlanta  D000308    65.164.3.100       M091  Online   \n",
              "\n",
              "   CustomerAge CustomerOccupation  TransactionDuration  LoginAttempts  \\\n",
              "0         70.0             Doctor                 81.0            1.0   \n",
              "1         68.0             Doctor                141.0            1.0   \n",
              "2         19.0            Student                 56.0            1.0   \n",
              "3         26.0            Student                 25.0            1.0   \n",
              "4          NaN            Student                198.0            1.0   \n",
              "\n",
              "   AccountBalance PreviousTransactionDate  \n",
              "0         5112.21     2024-11-04 08:08:08  \n",
              "1        13758.91     2024-11-04 08:09:35  \n",
              "2         1122.35     2024-11-04 08:07:04  \n",
              "3         8569.06     2024-11-04 08:09:06  \n",
              "4         7429.40     2024-11-04 08:06:39  "
            ]
          },
          "metadata": {},
          "output_type": "display_data"
        }
      ],
      "source": [
        "# Tampilkan 5 baris pertama dengan function head.\n",
        "\n",
        "display(df.head())"
      ]
    },
    {
      "cell_type": "code",
      "execution_count": 4,
      "metadata": {
        "colab": {
          "base_uri": "https://localhost:8080/"
        },
        "id": "0MgRVyMLnR5h",
        "outputId": "a218614f-3e74-4dc0-a44d-32ed42a4a3c8"
      },
      "outputs": [
        {
          "name": "stdout",
          "output_type": "stream",
          "text": [
            "<class 'pandas.core.frame.DataFrame'>\n",
            "RangeIndex: 2537 entries, 0 to 2536\n",
            "Data columns (total 16 columns):\n",
            " #   Column                   Non-Null Count  Dtype  \n",
            "---  ------                   --------------  -----  \n",
            " 0   TransactionID            2508 non-null   object \n",
            " 1   AccountID                2516 non-null   object \n",
            " 2   TransactionAmount        2511 non-null   float64\n",
            " 3   TransactionDate          2509 non-null   object \n",
            " 4   TransactionType          2507 non-null   object \n",
            " 5   Location                 2507 non-null   object \n",
            " 6   DeviceID                 2507 non-null   object \n",
            " 7   IP Address               2517 non-null   object \n",
            " 8   MerchantID               2514 non-null   object \n",
            " 9   Channel                  2510 non-null   object \n",
            " 10  CustomerAge              2519 non-null   float64\n",
            " 11  CustomerOccupation       2514 non-null   object \n",
            " 12  TransactionDuration      2511 non-null   float64\n",
            " 13  LoginAttempts            2516 non-null   float64\n",
            " 14  AccountBalance           2510 non-null   float64\n",
            " 15  PreviousTransactionDate  2513 non-null   object \n",
            "dtypes: float64(5), object(11)\n",
            "memory usage: 317.3+ KB\n"
          ]
        }
      ],
      "source": [
        "# Tinjau jumlah baris kolom dan jenis data dalam dataset dengan info.\n",
        "\n",
        "df.info()"
      ]
    },
    {
      "cell_type": "code",
      "execution_count": 5,
      "metadata": {
        "colab": {
          "base_uri": "https://localhost:8080/",
          "height": 300
        },
        "id": "hN9KsJPonVKT",
        "outputId": "6644531f-089e-49ae-e217-efc2b08bccb0"
      },
      "outputs": [
        {
          "data": {
            "text/html": [
              "<div>\n",
              "<style scoped>\n",
              "    .dataframe tbody tr th:only-of-type {\n",
              "        vertical-align: middle;\n",
              "    }\n",
              "\n",
              "    .dataframe tbody tr th {\n",
              "        vertical-align: top;\n",
              "    }\n",
              "\n",
              "    .dataframe thead th {\n",
              "        text-align: right;\n",
              "    }\n",
              "</style>\n",
              "<table border=\"1\" class=\"dataframe\">\n",
              "  <thead>\n",
              "    <tr style=\"text-align: right;\">\n",
              "      <th></th>\n",
              "      <th>TransactionAmount</th>\n",
              "      <th>CustomerAge</th>\n",
              "      <th>TransactionDuration</th>\n",
              "      <th>LoginAttempts</th>\n",
              "      <th>AccountBalance</th>\n",
              "    </tr>\n",
              "  </thead>\n",
              "  <tbody>\n",
              "    <tr>\n",
              "      <th>count</th>\n",
              "      <td>2511.000000</td>\n",
              "      <td>2519.000000</td>\n",
              "      <td>2511.000000</td>\n",
              "      <td>2516.000000</td>\n",
              "      <td>2510.000000</td>\n",
              "    </tr>\n",
              "    <tr>\n",
              "      <th>mean</th>\n",
              "      <td>297.656468</td>\n",
              "      <td>44.678444</td>\n",
              "      <td>119.422939</td>\n",
              "      <td>1.121622</td>\n",
              "      <td>5113.438124</td>\n",
              "    </tr>\n",
              "    <tr>\n",
              "      <th>std</th>\n",
              "      <td>292.230367</td>\n",
              "      <td>17.837359</td>\n",
              "      <td>70.078513</td>\n",
              "      <td>0.594469</td>\n",
              "      <td>3897.975861</td>\n",
              "    </tr>\n",
              "    <tr>\n",
              "      <th>min</th>\n",
              "      <td>0.260000</td>\n",
              "      <td>18.000000</td>\n",
              "      <td>10.000000</td>\n",
              "      <td>1.000000</td>\n",
              "      <td>101.250000</td>\n",
              "    </tr>\n",
              "    <tr>\n",
              "      <th>25%</th>\n",
              "      <td>81.310000</td>\n",
              "      <td>27.000000</td>\n",
              "      <td>63.000000</td>\n",
              "      <td>1.000000</td>\n",
              "      <td>1504.727500</td>\n",
              "    </tr>\n",
              "    <tr>\n",
              "      <th>50%</th>\n",
              "      <td>211.360000</td>\n",
              "      <td>45.000000</td>\n",
              "      <td>112.000000</td>\n",
              "      <td>1.000000</td>\n",
              "      <td>4734.110000</td>\n",
              "    </tr>\n",
              "    <tr>\n",
              "      <th>75%</th>\n",
              "      <td>413.105000</td>\n",
              "      <td>59.000000</td>\n",
              "      <td>161.000000</td>\n",
              "      <td>1.000000</td>\n",
              "      <td>7672.687500</td>\n",
              "    </tr>\n",
              "    <tr>\n",
              "      <th>max</th>\n",
              "      <td>1919.110000</td>\n",
              "      <td>80.000000</td>\n",
              "      <td>300.000000</td>\n",
              "      <td>5.000000</td>\n",
              "      <td>14977.990000</td>\n",
              "    </tr>\n",
              "  </tbody>\n",
              "</table>\n",
              "</div>"
            ],
            "text/plain": [
              "       TransactionAmount  CustomerAge  TransactionDuration  LoginAttempts  \\\n",
              "count        2511.000000  2519.000000          2511.000000    2516.000000   \n",
              "mean          297.656468    44.678444           119.422939       1.121622   \n",
              "std           292.230367    17.837359            70.078513       0.594469   \n",
              "min             0.260000    18.000000            10.000000       1.000000   \n",
              "25%            81.310000    27.000000            63.000000       1.000000   \n",
              "50%           211.360000    45.000000           112.000000       1.000000   \n",
              "75%           413.105000    59.000000           161.000000       1.000000   \n",
              "max          1919.110000    80.000000           300.000000       5.000000   \n",
              "\n",
              "       AccountBalance  \n",
              "count     2510.000000  \n",
              "mean      5113.438124  \n",
              "std       3897.975861  \n",
              "min        101.250000  \n",
              "25%       1504.727500  \n",
              "50%       4734.110000  \n",
              "75%       7672.687500  \n",
              "max      14977.990000  "
            ]
          },
          "execution_count": 5,
          "metadata": {},
          "output_type": "execute_result"
        }
      ],
      "source": [
        "# Menampilkan statistik deskriptif dataset dengan menjalankan describe\n",
        "\n",
        "df.describe()"
      ]
    },
    {
      "cell_type": "markdown",
      "metadata": {
        "id": "DNOEZk24uiXu"
      },
      "source": [
        "(Opsional) Memuat Dataset dan Melakukan Exploratory Data Analysis (EDA) [Skilled]\n",
        "\n",
        "**Biarkan kosong jika tidak menerapkan kriteria skilled**"
      ]
    },
    {
      "cell_type": "code",
      "execution_count": 6,
      "metadata": {
        "id": "DGAJlKExnYAt"
      },
      "outputs": [],
      "source": [
        "# Menampilkan korelasi antar fitur (Opsional Skilled 1)"
      ]
    },
    {
      "cell_type": "code",
      "execution_count": 7,
      "metadata": {
        "id": "kcBn9v4Fn8FO"
      },
      "outputs": [],
      "source": [
        "# Menampilkan histogram untuk semua kolom numerik (Opsional Skilled 1)"
      ]
    },
    {
      "cell_type": "markdown",
      "metadata": {
        "id": "k-S35baFuwaP"
      },
      "source": [
        "(Opsional) Memuat Dataset dan Melakukan Exploratory Data Analysis (EDA) [Advanced]\n",
        "\n",
        "**Biarkan kosong jika tidak menerapkan kriteria advanced**"
      ]
    },
    {
      "cell_type": "code",
      "execution_count": 8,
      "metadata": {
        "id": "GVIuT8VDokKn"
      },
      "outputs": [],
      "source": [
        "# Visualisasi yang lebih informatif (Opsional Advanced 1)"
      ]
    },
    {
      "cell_type": "markdown",
      "metadata": {
        "id": "cSemyzQHU0On"
      },
      "source": [
        "# **3. Pembersihan dan Pra Pemrosesan Data**\n",
        "\n",
        "Pada tahap ini, Anda akan melakukan **Pembersihan Dataset** untuk menjadikan dataset mudah diintepretasi dan bisa dilatih. Hal-hal yang wajib kamu lakukan yaitu:\n",
        "\n",
        "1. **Mengecek dataset** menggunakan isnull().sum() dan duplicated().sum().\n",
        "2. Melakukan feature scaling menggunakan `MinMaxScaler()` atau `StandardScalar()` untuk fitur numerik.\n",
        "3. Melakukan feature encoding menggunakan `pd.get_dummies()` atau `LabelEncoder()` untuk fitur kategorikal.\n",
        "4. Melakukan drop pada kolom id.\n",
        "5. **Ketentuan Cell Code**\n",
        "   - Pastikan **setiap pemeriksaan tersebut** memiliki **output pada cell-nya**. Jika tidak **submission langsung ditolak**\n"
      ]
    },
    {
      "cell_type": "code",
      "execution_count": 9,
      "metadata": {
        "colab": {
          "base_uri": "https://localhost:8080/",
          "height": 585
        },
        "id": "dKeejtvxM6X1",
        "outputId": "10f77d9e-f3b1-44fb-aaa2-b612463e547d"
      },
      "outputs": [
        {
          "data": {
            "text/plain": [
              "TransactionID              29\n",
              "AccountID                  21\n",
              "TransactionAmount          26\n",
              "TransactionDate            28\n",
              "TransactionType            30\n",
              "Location                   30\n",
              "DeviceID                   30\n",
              "IP Address                 20\n",
              "MerchantID                 23\n",
              "Channel                    27\n",
              "CustomerAge                18\n",
              "CustomerOccupation         23\n",
              "TransactionDuration        26\n",
              "LoginAttempts              21\n",
              "AccountBalance             27\n",
              "PreviousTransactionDate    24\n",
              "dtype: int64"
            ]
          },
          "execution_count": 9,
          "metadata": {},
          "output_type": "execute_result"
        }
      ],
      "source": [
        "# Mengecek dataset menggunakan isnull().sum()\n",
        "\n",
        "df.isnull().sum()"
      ]
    },
    {
      "cell_type": "code",
      "execution_count": 10,
      "metadata": {
        "colab": {
          "base_uri": "https://localhost:8080/"
        },
        "id": "2RrBA92mpHBc",
        "outputId": "0364e1f3-3095-42cf-a9d3-3a90dc7bf666"
      },
      "outputs": [
        {
          "name": "stdout",
          "output_type": "stream",
          "text": [
            "\n",
            "Jumlah data duplikat: 21\n",
            "Jumlah NaN sebelum ditangani:\n",
            "TransactionID              29\n",
            "AccountID                  21\n",
            "TransactionAmount          26\n",
            "TransactionDate            28\n",
            "TransactionType            30\n",
            "Location                   30\n",
            "DeviceID                   30\n",
            "IP Address                 20\n",
            "MerchantID                 23\n",
            "Channel                    27\n",
            "CustomerAge                18\n",
            "CustomerOccupation         23\n",
            "TransactionDuration        26\n",
            "LoginAttempts              21\n",
            "AccountBalance             27\n",
            "PreviousTransactionDate    24\n",
            "dtype: int64\n",
            "\n",
            "Jumlah NaN setelah ditangani (dengan dropna):\n",
            "TransactionID              0\n",
            "AccountID                  0\n",
            "TransactionAmount          0\n",
            "TransactionDate            0\n",
            "TransactionType            0\n",
            "Location                   0\n",
            "DeviceID                   0\n",
            "IP Address                 0\n",
            "MerchantID                 0\n",
            "Channel                    0\n",
            "CustomerAge                0\n",
            "CustomerOccupation         0\n",
            "TransactionDuration        0\n",
            "LoginAttempts              0\n",
            "AccountBalance             0\n",
            "PreviousTransactionDate    0\n",
            "dtype: int64\n",
            "\n",
            "Jumlah baris data setelah dropna: 2156\n",
            "Membuat salinan df_for_interpretation...\n",
            "Salinan berhasil dibuat. Data ini BELUM di-encode/scale.\n"
          ]
        },
        {
          "data": {
            "text/html": [
              "<div>\n",
              "<style scoped>\n",
              "    .dataframe tbody tr th:only-of-type {\n",
              "        vertical-align: middle;\n",
              "    }\n",
              "\n",
              "    .dataframe tbody tr th {\n",
              "        vertical-align: top;\n",
              "    }\n",
              "\n",
              "    .dataframe thead th {\n",
              "        text-align: right;\n",
              "    }\n",
              "</style>\n",
              "<table border=\"1\" class=\"dataframe\">\n",
              "  <thead>\n",
              "    <tr style=\"text-align: right;\">\n",
              "      <th></th>\n",
              "      <th>TransactionID</th>\n",
              "      <th>AccountID</th>\n",
              "      <th>TransactionAmount</th>\n",
              "      <th>TransactionDate</th>\n",
              "      <th>TransactionType</th>\n",
              "      <th>Location</th>\n",
              "      <th>DeviceID</th>\n",
              "      <th>IP Address</th>\n",
              "      <th>MerchantID</th>\n",
              "      <th>Channel</th>\n",
              "      <th>CustomerAge</th>\n",
              "      <th>CustomerOccupation</th>\n",
              "      <th>TransactionDuration</th>\n",
              "      <th>LoginAttempts</th>\n",
              "      <th>AccountBalance</th>\n",
              "      <th>PreviousTransactionDate</th>\n",
              "    </tr>\n",
              "  </thead>\n",
              "  <tbody>\n",
              "    <tr>\n",
              "      <th>0</th>\n",
              "      <td>TX000001</td>\n",
              "      <td>AC00128</td>\n",
              "      <td>14.09</td>\n",
              "      <td>2023-04-11 16:29:14</td>\n",
              "      <td>Debit</td>\n",
              "      <td>San Diego</td>\n",
              "      <td>D000380</td>\n",
              "      <td>162.198.218.92</td>\n",
              "      <td>M015</td>\n",
              "      <td>ATM</td>\n",
              "      <td>70.0</td>\n",
              "      <td>Doctor</td>\n",
              "      <td>81.0</td>\n",
              "      <td>1.0</td>\n",
              "      <td>5112.21</td>\n",
              "      <td>2024-11-04 08:08:08</td>\n",
              "    </tr>\n",
              "    <tr>\n",
              "      <th>1</th>\n",
              "      <td>TX000002</td>\n",
              "      <td>AC00455</td>\n",
              "      <td>376.24</td>\n",
              "      <td>2023-06-27 16:44:19</td>\n",
              "      <td>Debit</td>\n",
              "      <td>Houston</td>\n",
              "      <td>D000051</td>\n",
              "      <td>13.149.61.4</td>\n",
              "      <td>M052</td>\n",
              "      <td>ATM</td>\n",
              "      <td>68.0</td>\n",
              "      <td>Doctor</td>\n",
              "      <td>141.0</td>\n",
              "      <td>1.0</td>\n",
              "      <td>13758.91</td>\n",
              "      <td>2024-11-04 08:09:35</td>\n",
              "    </tr>\n",
              "    <tr>\n",
              "      <th>2</th>\n",
              "      <td>TX000003</td>\n",
              "      <td>AC00019</td>\n",
              "      <td>126.29</td>\n",
              "      <td>2023-07-10 18:16:08</td>\n",
              "      <td>Debit</td>\n",
              "      <td>Mesa</td>\n",
              "      <td>D000235</td>\n",
              "      <td>215.97.143.157</td>\n",
              "      <td>M009</td>\n",
              "      <td>Online</td>\n",
              "      <td>19.0</td>\n",
              "      <td>Student</td>\n",
              "      <td>56.0</td>\n",
              "      <td>1.0</td>\n",
              "      <td>1122.35</td>\n",
              "      <td>2024-11-04 08:07:04</td>\n",
              "    </tr>\n",
              "    <tr>\n",
              "      <th>3</th>\n",
              "      <td>TX000004</td>\n",
              "      <td>AC00070</td>\n",
              "      <td>184.50</td>\n",
              "      <td>2023-05-05 16:32:11</td>\n",
              "      <td>Debit</td>\n",
              "      <td>Raleigh</td>\n",
              "      <td>D000187</td>\n",
              "      <td>200.13.225.150</td>\n",
              "      <td>M002</td>\n",
              "      <td>Online</td>\n",
              "      <td>26.0</td>\n",
              "      <td>Student</td>\n",
              "      <td>25.0</td>\n",
              "      <td>1.0</td>\n",
              "      <td>8569.06</td>\n",
              "      <td>2024-11-04 08:09:06</td>\n",
              "    </tr>\n",
              "    <tr>\n",
              "      <th>5</th>\n",
              "      <td>TX000006</td>\n",
              "      <td>AC00393</td>\n",
              "      <td>92.15</td>\n",
              "      <td>2023-04-03 17:15:01</td>\n",
              "      <td>Debit</td>\n",
              "      <td>Oklahoma City</td>\n",
              "      <td>D000579</td>\n",
              "      <td>117.67.192.211</td>\n",
              "      <td>M054</td>\n",
              "      <td>ATM</td>\n",
              "      <td>18.0</td>\n",
              "      <td>Student</td>\n",
              "      <td>172.0</td>\n",
              "      <td>1.0</td>\n",
              "      <td>781.68</td>\n",
              "      <td>2024-11-04 08:06:36</td>\n",
              "    </tr>\n",
              "  </tbody>\n",
              "</table>\n",
              "</div>"
            ],
            "text/plain": [
              "  TransactionID AccountID  TransactionAmount      TransactionDate  \\\n",
              "0      TX000001   AC00128              14.09  2023-04-11 16:29:14   \n",
              "1      TX000002   AC00455             376.24  2023-06-27 16:44:19   \n",
              "2      TX000003   AC00019             126.29  2023-07-10 18:16:08   \n",
              "3      TX000004   AC00070             184.50  2023-05-05 16:32:11   \n",
              "5      TX000006   AC00393              92.15  2023-04-03 17:15:01   \n",
              "\n",
              "  TransactionType       Location DeviceID      IP Address MerchantID Channel  \\\n",
              "0           Debit      San Diego  D000380  162.198.218.92       M015     ATM   \n",
              "1           Debit        Houston  D000051     13.149.61.4       M052     ATM   \n",
              "2           Debit           Mesa  D000235  215.97.143.157       M009  Online   \n",
              "3           Debit        Raleigh  D000187  200.13.225.150       M002  Online   \n",
              "5           Debit  Oklahoma City  D000579  117.67.192.211       M054     ATM   \n",
              "\n",
              "   CustomerAge CustomerOccupation  TransactionDuration  LoginAttempts  \\\n",
              "0         70.0             Doctor                 81.0            1.0   \n",
              "1         68.0             Doctor                141.0            1.0   \n",
              "2         19.0            Student                 56.0            1.0   \n",
              "3         26.0            Student                 25.0            1.0   \n",
              "5         18.0            Student                172.0            1.0   \n",
              "\n",
              "   AccountBalance PreviousTransactionDate  \n",
              "0         5112.21     2024-11-04 08:08:08  \n",
              "1        13758.91     2024-11-04 08:09:35  \n",
              "2         1122.35     2024-11-04 08:07:04  \n",
              "3         8569.06     2024-11-04 08:09:06  \n",
              "5          781.68     2024-11-04 08:06:36  "
            ]
          },
          "metadata": {},
          "output_type": "display_data"
        }
      ],
      "source": [
        "\n",
        "\n",
        "# Mengecek dataset menggunakan duplicated().sum()\n",
        "print(f\"\\nJumlah data duplikat: {df.duplicated().sum()}\")\n",
        "# ## Menangani Nilai NaN (PENTING!)\n",
        "\n",
        "print(\"Jumlah NaN sebelum ditangani:\")\n",
        "print(df.isnull().sum())\n",
        "\n",
        "# Menghapus semua baris yang mengandung setidaknya satu nilai NaN\n",
        "df = df.dropna()\n",
        "\n",
        "print(\"\\nJumlah NaN setelah ditangani (dengan dropna):\")\n",
        "print(df.isnull().sum())\n",
        "\n",
        "print(f\"\\nJumlah baris data setelah dropna: {len(df)}\")\n",
        "\n",
        "# ## Membuat Salinan Data untuk Interpretasi Nanti\n",
        "print(\"Membuat salinan df_for_interpretation...\")\n",
        "df_for_interpretation = df.copy()\n",
        "print(\"Salinan berhasil dibuat. Data ini BELUM di-encode/scale.\")\n",
        "display(df_for_interpretation.head())"
      ]
    },
    {
      "cell_type": "code",
      "execution_count": 11,
      "metadata": {
        "id": "G7WXozOgpJp-"
      },
      "outputs": [
        {
          "name": "stdout",
          "output_type": "stream",
          "text": [
            "Kolom ID yang akan dihapus: ['TransactionID', 'AccountID', 'MerchantID', 'DeviceID', 'IP Address']\n",
            "\n",
            "Kolom setelah drop ID (PASTIKAN IPAddress SUDAH HILANG):\n",
            "['TransactionAmount', 'TransactionDate', 'TransactionType', 'Location', 'Channel', 'CustomerAge', 'CustomerOccupation', 'TransactionDuration', 'LoginAttempts', 'AccountBalance', 'PreviousTransactionDate']\n"
          ]
        }
      ],
      "source": [
        "# ## Melakukan drop pada kolom yang memiliki keterangan id dan IP Address\n",
        "\n",
        "# Daftar kolom ID yang AKAN DIHAPUS (PASTIKAN IPAddress ADA DI SINI)\n",
        "id_columns_to_drop = ['TransactionID', 'AccountID', 'MerchantID', 'DeviceID', 'IP Address']\n",
        "\n",
        "# Cek kolom mana saja yang benar-benar ada di dataframe Anda saat ini\n",
        "existing_id_columns = [col for col in id_columns_to_drop if col in df.columns]\n",
        "\n",
        "print(f\"Kolom ID yang akan dihapus: {existing_id_columns}\")\n",
        "\n",
        "# Lakukan drop dan simpan kembali ke df\n",
        "df = df.drop(columns=existing_id_columns)\n",
        "\n",
        "print(\"\\nKolom setelah drop ID (PASTIKAN IPAddress SUDAH HILANG):\")\n",
        "print(df.columns.tolist()) # <-- Periksa output ini baik-baik!"
      ]
    },
    {
      "cell_type": "code",
      "execution_count": 12,
      "metadata": {},
      "outputs": [
        {
          "name": "stdout",
          "output_type": "stream",
          "text": [
            "Membuat salinan 'df_for_interpretation'...\n",
            "Salinan berhasil dibuat. Ini adalah data sebelum di-encode dan di-scale:\n"
          ]
        },
        {
          "data": {
            "text/html": [
              "<div>\n",
              "<style scoped>\n",
              "    .dataframe tbody tr th:only-of-type {\n",
              "        vertical-align: middle;\n",
              "    }\n",
              "\n",
              "    .dataframe tbody tr th {\n",
              "        vertical-align: top;\n",
              "    }\n",
              "\n",
              "    .dataframe thead th {\n",
              "        text-align: right;\n",
              "    }\n",
              "</style>\n",
              "<table border=\"1\" class=\"dataframe\">\n",
              "  <thead>\n",
              "    <tr style=\"text-align: right;\">\n",
              "      <th></th>\n",
              "      <th>TransactionAmount</th>\n",
              "      <th>TransactionDate</th>\n",
              "      <th>TransactionType</th>\n",
              "      <th>Location</th>\n",
              "      <th>Channel</th>\n",
              "      <th>CustomerAge</th>\n",
              "      <th>CustomerOccupation</th>\n",
              "      <th>TransactionDuration</th>\n",
              "      <th>LoginAttempts</th>\n",
              "      <th>AccountBalance</th>\n",
              "      <th>PreviousTransactionDate</th>\n",
              "    </tr>\n",
              "  </thead>\n",
              "  <tbody>\n",
              "    <tr>\n",
              "      <th>0</th>\n",
              "      <td>14.09</td>\n",
              "      <td>2023-04-11 16:29:14</td>\n",
              "      <td>Debit</td>\n",
              "      <td>San Diego</td>\n",
              "      <td>ATM</td>\n",
              "      <td>70.0</td>\n",
              "      <td>Doctor</td>\n",
              "      <td>81.0</td>\n",
              "      <td>1.0</td>\n",
              "      <td>5112.21</td>\n",
              "      <td>2024-11-04 08:08:08</td>\n",
              "    </tr>\n",
              "    <tr>\n",
              "      <th>1</th>\n",
              "      <td>376.24</td>\n",
              "      <td>2023-06-27 16:44:19</td>\n",
              "      <td>Debit</td>\n",
              "      <td>Houston</td>\n",
              "      <td>ATM</td>\n",
              "      <td>68.0</td>\n",
              "      <td>Doctor</td>\n",
              "      <td>141.0</td>\n",
              "      <td>1.0</td>\n",
              "      <td>13758.91</td>\n",
              "      <td>2024-11-04 08:09:35</td>\n",
              "    </tr>\n",
              "    <tr>\n",
              "      <th>2</th>\n",
              "      <td>126.29</td>\n",
              "      <td>2023-07-10 18:16:08</td>\n",
              "      <td>Debit</td>\n",
              "      <td>Mesa</td>\n",
              "      <td>Online</td>\n",
              "      <td>19.0</td>\n",
              "      <td>Student</td>\n",
              "      <td>56.0</td>\n",
              "      <td>1.0</td>\n",
              "      <td>1122.35</td>\n",
              "      <td>2024-11-04 08:07:04</td>\n",
              "    </tr>\n",
              "    <tr>\n",
              "      <th>3</th>\n",
              "      <td>184.50</td>\n",
              "      <td>2023-05-05 16:32:11</td>\n",
              "      <td>Debit</td>\n",
              "      <td>Raleigh</td>\n",
              "      <td>Online</td>\n",
              "      <td>26.0</td>\n",
              "      <td>Student</td>\n",
              "      <td>25.0</td>\n",
              "      <td>1.0</td>\n",
              "      <td>8569.06</td>\n",
              "      <td>2024-11-04 08:09:06</td>\n",
              "    </tr>\n",
              "    <tr>\n",
              "      <th>5</th>\n",
              "      <td>92.15</td>\n",
              "      <td>2023-04-03 17:15:01</td>\n",
              "      <td>Debit</td>\n",
              "      <td>Oklahoma City</td>\n",
              "      <td>ATM</td>\n",
              "      <td>18.0</td>\n",
              "      <td>Student</td>\n",
              "      <td>172.0</td>\n",
              "      <td>1.0</td>\n",
              "      <td>781.68</td>\n",
              "      <td>2024-11-04 08:06:36</td>\n",
              "    </tr>\n",
              "  </tbody>\n",
              "</table>\n",
              "</div>"
            ],
            "text/plain": [
              "   TransactionAmount      TransactionDate TransactionType       Location  \\\n",
              "0              14.09  2023-04-11 16:29:14           Debit      San Diego   \n",
              "1             376.24  2023-06-27 16:44:19           Debit        Houston   \n",
              "2             126.29  2023-07-10 18:16:08           Debit           Mesa   \n",
              "3             184.50  2023-05-05 16:32:11           Debit        Raleigh   \n",
              "5              92.15  2023-04-03 17:15:01           Debit  Oklahoma City   \n",
              "\n",
              "  Channel  CustomerAge CustomerOccupation  TransactionDuration  LoginAttempts  \\\n",
              "0     ATM         70.0             Doctor                 81.0            1.0   \n",
              "1     ATM         68.0             Doctor                141.0            1.0   \n",
              "2  Online         19.0            Student                 56.0            1.0   \n",
              "3  Online         26.0            Student                 25.0            1.0   \n",
              "5     ATM         18.0            Student                172.0            1.0   \n",
              "\n",
              "   AccountBalance PreviousTransactionDate  \n",
              "0         5112.21     2024-11-04 08:08:08  \n",
              "1        13758.91     2024-11-04 08:09:35  \n",
              "2         1122.35     2024-11-04 08:07:04  \n",
              "3         8569.06     2024-11-04 08:09:06  \n",
              "5          781.68     2024-11-04 08:06:36  "
            ]
          },
          "metadata": {},
          "output_type": "display_data"
        },
        {
          "name": "stdout",
          "output_type": "stream",
          "text": [
            "Tipe data df_for_interpretation:\n",
            "<class 'pandas.core.frame.DataFrame'>\n",
            "Index: 2156 entries, 0 to 2536\n",
            "Data columns (total 11 columns):\n",
            " #   Column                   Non-Null Count  Dtype  \n",
            "---  ------                   --------------  -----  \n",
            " 0   TransactionAmount        2156 non-null   float64\n",
            " 1   TransactionDate          2156 non-null   object \n",
            " 2   TransactionType          2156 non-null   object \n",
            " 3   Location                 2156 non-null   object \n",
            " 4   Channel                  2156 non-null   object \n",
            " 5   CustomerAge              2156 non-null   float64\n",
            " 6   CustomerOccupation       2156 non-null   object \n",
            " 7   TransactionDuration      2156 non-null   float64\n",
            " 8   LoginAttempts            2156 non-null   float64\n",
            " 9   AccountBalance           2156 non-null   float64\n",
            " 10  PreviousTransactionDate  2156 non-null   object \n",
            "dtypes: float64(5), object(6)\n",
            "memory usage: 202.1+ KB\n"
          ]
        }
      ],
      "source": [
        "# ## MEMBUAT SALINAN DATA UNTUK INTERPRETASI\n",
        "# Cell ini HARUS dijalankan SETELAH dropna() dan drop ID, \n",
        "# TAPI SEBELUM LabelEncoder dan MinMaxScaler.\n",
        "\n",
        "print(\"Membuat salinan 'df_for_interpretation'...\")\n",
        "df_for_interpretation = df.copy() \n",
        "\n",
        "print(\"Salinan berhasil dibuat. Ini adalah data sebelum di-encode dan di-scale:\")\n",
        "display(df_for_interpretation.head())\n",
        "print(\"Tipe data df_for_interpretation:\")\n",
        "df_for_interpretation.info()"
      ]
    },
    {
      "cell_type": "code",
      "execution_count": 13,
      "metadata": {
        "id": "TGLR0NTwsMOp"
      },
      "outputs": [
        {
          "name": "stdout",
          "output_type": "stream",
          "text": [
            "Fitur kategorikal yang akan di-encode: ['TransactionDate', 'TransactionType', 'Location', 'Channel', 'CustomerOccupation', 'PreviousTransactionDate']\n",
            "\n",
            "DataFrame setelah Encoding:\n"
          ]
        },
        {
          "data": {
            "text/html": [
              "<div>\n",
              "<style scoped>\n",
              "    .dataframe tbody tr th:only-of-type {\n",
              "        vertical-align: middle;\n",
              "    }\n",
              "\n",
              "    .dataframe tbody tr th {\n",
              "        vertical-align: top;\n",
              "    }\n",
              "\n",
              "    .dataframe thead th {\n",
              "        text-align: right;\n",
              "    }\n",
              "</style>\n",
              "<table border=\"1\" class=\"dataframe\">\n",
              "  <thead>\n",
              "    <tr style=\"text-align: right;\">\n",
              "      <th></th>\n",
              "      <th>TransactionAmount</th>\n",
              "      <th>TransactionDate</th>\n",
              "      <th>TransactionType</th>\n",
              "      <th>Location</th>\n",
              "      <th>Channel</th>\n",
              "      <th>CustomerAge</th>\n",
              "      <th>CustomerOccupation</th>\n",
              "      <th>TransactionDuration</th>\n",
              "      <th>LoginAttempts</th>\n",
              "      <th>AccountBalance</th>\n",
              "      <th>PreviousTransactionDate</th>\n",
              "    </tr>\n",
              "  </thead>\n",
              "  <tbody>\n",
              "    <tr>\n",
              "      <th>0</th>\n",
              "      <td>14.09</td>\n",
              "      <td>591</td>\n",
              "      <td>1</td>\n",
              "      <td>36</td>\n",
              "      <td>0</td>\n",
              "      <td>70.0</td>\n",
              "      <td>0</td>\n",
              "      <td>81.0</td>\n",
              "      <td>1.0</td>\n",
              "      <td>5112.21</td>\n",
              "      <td>105</td>\n",
              "    </tr>\n",
              "    <tr>\n",
              "      <th>1</th>\n",
              "      <td>376.24</td>\n",
              "      <td>1031</td>\n",
              "      <td>1</td>\n",
              "      <td>15</td>\n",
              "      <td>0</td>\n",
              "      <td>68.0</td>\n",
              "      <td>0</td>\n",
              "      <td>141.0</td>\n",
              "      <td>1.0</td>\n",
              "      <td>13758.91</td>\n",
              "      <td>192</td>\n",
              "    </tr>\n",
              "    <tr>\n",
              "      <th>2</th>\n",
              "      <td>126.29</td>\n",
              "      <td>1097</td>\n",
              "      <td>1</td>\n",
              "      <td>23</td>\n",
              "      <td>2</td>\n",
              "      <td>19.0</td>\n",
              "      <td>3</td>\n",
              "      <td>56.0</td>\n",
              "      <td>1.0</td>\n",
              "      <td>1122.35</td>\n",
              "      <td>41</td>\n",
              "    </tr>\n",
              "    <tr>\n",
              "      <th>3</th>\n",
              "      <td>184.50</td>\n",
              "      <td>712</td>\n",
              "      <td>1</td>\n",
              "      <td>33</td>\n",
              "      <td>2</td>\n",
              "      <td>26.0</td>\n",
              "      <td>3</td>\n",
              "      <td>25.0</td>\n",
              "      <td>1.0</td>\n",
              "      <td>8569.06</td>\n",
              "      <td>163</td>\n",
              "    </tr>\n",
              "    <tr>\n",
              "      <th>5</th>\n",
              "      <td>92.15</td>\n",
              "      <td>550</td>\n",
              "      <td>1</td>\n",
              "      <td>28</td>\n",
              "      <td>0</td>\n",
              "      <td>18.0</td>\n",
              "      <td>3</td>\n",
              "      <td>172.0</td>\n",
              "      <td>1.0</td>\n",
              "      <td>781.68</td>\n",
              "      <td>13</td>\n",
              "    </tr>\n",
              "  </tbody>\n",
              "</table>\n",
              "</div>"
            ],
            "text/plain": [
              "   TransactionAmount  TransactionDate  TransactionType  Location  Channel  \\\n",
              "0              14.09              591                1        36        0   \n",
              "1             376.24             1031                1        15        0   \n",
              "2             126.29             1097                1        23        2   \n",
              "3             184.50              712                1        33        2   \n",
              "5              92.15              550                1        28        0   \n",
              "\n",
              "   CustomerAge  CustomerOccupation  TransactionDuration  LoginAttempts  \\\n",
              "0         70.0                   0                 81.0            1.0   \n",
              "1         68.0                   0                141.0            1.0   \n",
              "2         19.0                   3                 56.0            1.0   \n",
              "3         26.0                   3                 25.0            1.0   \n",
              "5         18.0                   3                172.0            1.0   \n",
              "\n",
              "   AccountBalance  PreviousTransactionDate  \n",
              "0         5112.21                      105  \n",
              "1        13758.91                      192  \n",
              "2         1122.35                       41  \n",
              "3         8569.06                      163  \n",
              "5          781.68                       13  "
            ]
          },
          "execution_count": 13,
          "metadata": {},
          "output_type": "execute_result"
        }
      ],
      "source": [
        "# Melakukan feature encoding menggunakan LabelEncoder() untuk fitur kategorikal.\n",
        "# Pastikan kamu menggunakan function head setelah melalukan encoding.\n",
        "\n",
        "categorical_features = df.select_dtypes(include=['object', 'category']).columns.tolist()\n",
        "le = LabelEncoder()\n",
        "\n",
        "print(f\"Fitur kategorikal yang akan di-encode: {categorical_features}\")\n",
        "\n",
        "for col in categorical_features:\n",
        "    df[col] = le.fit_transform(df[col]) # Simpan kembali ke df\n",
        "\n",
        "print(\"\\nDataFrame setelah Encoding:\")\n",
        "df.head()"
      ]
    },
    {
      "cell_type": "code",
      "execution_count": 14,
      "metadata": {
        "id": "6eycdNMQqx4c"
      },
      "outputs": [
        {
          "name": "stdout",
          "output_type": "stream",
          "text": [
            "Fitur yang akan di-scale: ['TransactionAmount', 'TransactionDate', 'TransactionType', 'Location', 'Channel', 'CustomerAge', 'CustomerOccupation', 'TransactionDuration', 'LoginAttempts', 'AccountBalance', 'PreviousTransactionDate']\n",
            "\n",
            "DataFrame setelah Scaling:\n"
          ]
        },
        {
          "data": {
            "text/html": [
              "<div>\n",
              "<style scoped>\n",
              "    .dataframe tbody tr th:only-of-type {\n",
              "        vertical-align: middle;\n",
              "    }\n",
              "\n",
              "    .dataframe tbody tr th {\n",
              "        vertical-align: top;\n",
              "    }\n",
              "\n",
              "    .dataframe thead th {\n",
              "        text-align: right;\n",
              "    }\n",
              "</style>\n",
              "<table border=\"1\" class=\"dataframe\">\n",
              "  <thead>\n",
              "    <tr style=\"text-align: right;\">\n",
              "      <th></th>\n",
              "      <th>TransactionAmount</th>\n",
              "      <th>TransactionDate</th>\n",
              "      <th>TransactionType</th>\n",
              "      <th>Location</th>\n",
              "      <th>Channel</th>\n",
              "      <th>CustomerAge</th>\n",
              "      <th>CustomerOccupation</th>\n",
              "      <th>TransactionDuration</th>\n",
              "      <th>LoginAttempts</th>\n",
              "      <th>AccountBalance</th>\n",
              "      <th>PreviousTransactionDate</th>\n",
              "    </tr>\n",
              "  </thead>\n",
              "  <tbody>\n",
              "    <tr>\n",
              "      <th>0</th>\n",
              "      <td>0.007554</td>\n",
              "      <td>0.276945</td>\n",
              "      <td>1.0</td>\n",
              "      <td>0.857143</td>\n",
              "      <td>0.0</td>\n",
              "      <td>0.838710</td>\n",
              "      <td>0.0</td>\n",
              "      <td>0.244828</td>\n",
              "      <td>0.0</td>\n",
              "      <td>0.336790</td>\n",
              "      <td>0.292479</td>\n",
              "    </tr>\n",
              "    <tr>\n",
              "      <th>1</th>\n",
              "      <td>0.205368</td>\n",
              "      <td>0.483130</td>\n",
              "      <td>1.0</td>\n",
              "      <td>0.357143</td>\n",
              "      <td>0.0</td>\n",
              "      <td>0.806452</td>\n",
              "      <td>0.0</td>\n",
              "      <td>0.451724</td>\n",
              "      <td>0.0</td>\n",
              "      <td>0.918049</td>\n",
              "      <td>0.534819</td>\n",
              "    </tr>\n",
              "    <tr>\n",
              "      <th>2</th>\n",
              "      <td>0.068840</td>\n",
              "      <td>0.514058</td>\n",
              "      <td>1.0</td>\n",
              "      <td>0.547619</td>\n",
              "      <td>1.0</td>\n",
              "      <td>0.016129</td>\n",
              "      <td>1.0</td>\n",
              "      <td>0.158621</td>\n",
              "      <td>0.0</td>\n",
              "      <td>0.068578</td>\n",
              "      <td>0.114206</td>\n",
              "    </tr>\n",
              "    <tr>\n",
              "      <th>3</th>\n",
              "      <td>0.100636</td>\n",
              "      <td>0.333646</td>\n",
              "      <td>1.0</td>\n",
              "      <td>0.785714</td>\n",
              "      <td>1.0</td>\n",
              "      <td>0.129032</td>\n",
              "      <td>1.0</td>\n",
              "      <td>0.051724</td>\n",
              "      <td>0.0</td>\n",
              "      <td>0.569170</td>\n",
              "      <td>0.454039</td>\n",
              "    </tr>\n",
              "    <tr>\n",
              "      <th>5</th>\n",
              "      <td>0.050192</td>\n",
              "      <td>0.257732</td>\n",
              "      <td>1.0</td>\n",
              "      <td>0.666667</td>\n",
              "      <td>0.0</td>\n",
              "      <td>0.000000</td>\n",
              "      <td>1.0</td>\n",
              "      <td>0.558621</td>\n",
              "      <td>0.0</td>\n",
              "      <td>0.045677</td>\n",
              "      <td>0.036212</td>\n",
              "    </tr>\n",
              "  </tbody>\n",
              "</table>\n",
              "</div>"
            ],
            "text/plain": [
              "   TransactionAmount  TransactionDate  TransactionType  Location  Channel  \\\n",
              "0           0.007554         0.276945              1.0  0.857143      0.0   \n",
              "1           0.205368         0.483130              1.0  0.357143      0.0   \n",
              "2           0.068840         0.514058              1.0  0.547619      1.0   \n",
              "3           0.100636         0.333646              1.0  0.785714      1.0   \n",
              "5           0.050192         0.257732              1.0  0.666667      0.0   \n",
              "\n",
              "   CustomerAge  CustomerOccupation  TransactionDuration  LoginAttempts  \\\n",
              "0     0.838710                 0.0             0.244828            0.0   \n",
              "1     0.806452                 0.0             0.451724            0.0   \n",
              "2     0.016129                 1.0             0.158621            0.0   \n",
              "3     0.129032                 1.0             0.051724            0.0   \n",
              "5     0.000000                 1.0             0.558621            0.0   \n",
              "\n",
              "   AccountBalance  PreviousTransactionDate  \n",
              "0        0.336790                 0.292479  \n",
              "1        0.918049                 0.534819  \n",
              "2        0.068578                 0.114206  \n",
              "3        0.569170                 0.454039  \n",
              "5        0.045677                 0.036212  "
            ]
          },
          "execution_count": 14,
          "metadata": {},
          "output_type": "execute_result"
        }
      ],
      "source": [
        "# Melakukan feature scaling menggunakan MinMaxScaler() atau StandardScalar() untuk fitur numerik.\n",
        "# Pastikan kamu menggunakan function head setelah melalukan scaling.\n",
        "\n",
        "# Kita ambil semua kolom karena semua sudah numerik (kecuali jika ada yg mau dikecualikan)\n",
        "numerical_features_to_scale = df.columns.tolist()\n",
        "scaler = MinMaxScaler()\n",
        "\n",
        "print(f\"Fitur yang akan di-scale: {numerical_features_to_scale}\")\n",
        "\n",
        "df[numerical_features_to_scale] = scaler.fit_transform(df[numerical_features_to_scale]) # Simpan kembali ke df\n",
        "\n",
        "print(\"\\nDataFrame setelah Scaling:\")\n",
        "df.head()"
      ]
    },
    {
      "cell_type": "markdown",
      "metadata": {
        "id": "qnbH2l_wv9l8"
      },
      "source": [
        "(Opsional) Pembersihan dan Pra Pemrosesan Data [Skilled]\n",
        "\n",
        "**Biarkan kosong jika tidak menerapkan kriteria skilled**"
      ]
    },
    {
      "cell_type": "code",
      "execution_count": 15,
      "metadata": {},
      "outputs": [
        {
          "data": {
            "text/plain": [
              "['TransactionAmount',\n",
              " 'TransactionDate',\n",
              " 'TransactionType',\n",
              " 'Location',\n",
              " 'Channel',\n",
              " 'CustomerAge',\n",
              " 'CustomerOccupation',\n",
              " 'TransactionDuration',\n",
              " 'LoginAttempts',\n",
              " 'AccountBalance',\n",
              " 'PreviousTransactionDate']"
            ]
          },
          "execution_count": 15,
          "metadata": {},
          "output_type": "execute_result"
        }
      ],
      "source": [
        "# Last checking gunakan columns.tolist() untuk checking seluruh fitur yang ada.\n",
        "# Perbaiki kode di bawah ini tanpa menambahkan atau mengurangi cell code ini.\n",
        "df.columns.tolist()"
      ]
    },
    {
      "cell_type": "code",
      "execution_count": 16,
      "metadata": {
        "id": "-UoGhAUrsxIV"
      },
      "outputs": [],
      "source": [
        "# Menangani data yang hilang (bisa menggunakan dropna() atau metode imputasi fillna())."
      ]
    },
    {
      "cell_type": "code",
      "execution_count": 17,
      "metadata": {
        "id": "WGt2XApTttSL"
      },
      "outputs": [],
      "source": [
        "# Menghapus data duplikat menggunakan drop_duplicates()."
      ]
    },
    {
      "cell_type": "markdown",
      "metadata": {
        "id": "H5RrswThwQrC"
      },
      "source": [
        "(Opsional) Pembersihan dan Pra Pemrosesan Data [Advanced]\n",
        "\n",
        "**Biarkan kosong jika tidak menerapkan kriteria advanced**"
      ]
    },
    {
      "cell_type": "code",
      "execution_count": 18,
      "metadata": {
        "id": "mvhfyYpat9Xs"
      },
      "outputs": [],
      "source": [
        "# Melakukan Handling Outlier Data berdasarkan jumlah outlier, apakah menggunakan metode drop atau mengisi nilai tersebut."
      ]
    },
    {
      "cell_type": "code",
      "execution_count": 19,
      "metadata": {
        "id": "QjcR-3G0u-GL"
      },
      "outputs": [],
      "source": [
        "# Melakukan binning data berdasarkan kondisi rentang nilai pada fitur numerik,\n",
        "# lakukan pada satu sampai dua fitur numerik.\n",
        "# Silahkan lakukan encode hasil binning tersebut menggunakan LabelEncoder atau get_dummies."
      ]
    },
    {
      "cell_type": "markdown",
      "metadata": {
        "id": "Fkd_QHXWMBDr"
      },
      "source": [
        "# **4. Membangun Model Clustering**\n",
        "Pada tahap ini, Anda membangun model clustering dengan memilih algoritma yang sesuai untuk mengelompokkan data berdasarkan kesamaan.\n",
        "1. Melakukan visualisasi Elbow Method untuk menentukan jumlah cluster terbaik menggunakan `KElbowVisualizer()`.\n",
        "2. Menggunakan algoritma K-Means Clustering dengan `sklearn.cluster.KMeans()`.\n",
        "3. Jalankan cell code `joblib.dump(model_kmeans, \"best_model_clustering.h5\")` untuk menyimpan model yang sudah dibuat."
      ]
    },
    {
      "cell_type": "code",
      "execution_count": 20,
      "metadata": {
        "colab": {
          "base_uri": "https://localhost:8080/",
          "height": 300
        },
        "id": "hYHmRnb42A1P",
        "outputId": "3579fdb4-23c2-4d18-eb12-755911ea32e3"
      },
      "outputs": [
        {
          "data": {
            "text/html": [
              "<div>\n",
              "<style scoped>\n",
              "    .dataframe tbody tr th:only-of-type {\n",
              "        vertical-align: middle;\n",
              "    }\n",
              "\n",
              "    .dataframe tbody tr th {\n",
              "        vertical-align: top;\n",
              "    }\n",
              "\n",
              "    .dataframe thead th {\n",
              "        text-align: right;\n",
              "    }\n",
              "</style>\n",
              "<table border=\"1\" class=\"dataframe\">\n",
              "  <thead>\n",
              "    <tr style=\"text-align: right;\">\n",
              "      <th></th>\n",
              "      <th>TransactionAmount</th>\n",
              "      <th>TransactionDate</th>\n",
              "      <th>TransactionType</th>\n",
              "      <th>Location</th>\n",
              "      <th>Channel</th>\n",
              "      <th>CustomerAge</th>\n",
              "      <th>CustomerOccupation</th>\n",
              "      <th>TransactionDuration</th>\n",
              "      <th>LoginAttempts</th>\n",
              "      <th>AccountBalance</th>\n",
              "      <th>PreviousTransactionDate</th>\n",
              "    </tr>\n",
              "  </thead>\n",
              "  <tbody>\n",
              "    <tr>\n",
              "      <th>count</th>\n",
              "      <td>2156.000000</td>\n",
              "      <td>2156.000000</td>\n",
              "      <td>2156.000000</td>\n",
              "      <td>2156.000000</td>\n",
              "      <td>2156.000000</td>\n",
              "      <td>2156.000000</td>\n",
              "      <td>2156.000000</td>\n",
              "      <td>2156.000000</td>\n",
              "      <td>2156.000000</td>\n",
              "      <td>2156.000000</td>\n",
              "      <td>2156.000000</td>\n",
              "    </tr>\n",
              "    <tr>\n",
              "      <th>mean</th>\n",
              "      <td>0.162628</td>\n",
              "      <td>0.500007</td>\n",
              "      <td>0.774583</td>\n",
              "      <td>0.506858</td>\n",
              "      <td>0.488868</td>\n",
              "      <td>0.430038</td>\n",
              "      <td>0.501237</td>\n",
              "      <td>0.379322</td>\n",
              "      <td>0.029105</td>\n",
              "      <td>0.335235</td>\n",
              "      <td>0.499211</td>\n",
              "    </tr>\n",
              "    <tr>\n",
              "      <th>std</th>\n",
              "      <td>0.158779</td>\n",
              "      <td>0.288958</td>\n",
              "      <td>0.417954</td>\n",
              "      <td>0.292963</td>\n",
              "      <td>0.403714</td>\n",
              "      <td>0.288017</td>\n",
              "      <td>0.378391</td>\n",
              "      <td>0.244704</td>\n",
              "      <td>0.143879</td>\n",
              "      <td>0.263511</td>\n",
              "      <td>0.285808</td>\n",
              "    </tr>\n",
              "    <tr>\n",
              "      <th>min</th>\n",
              "      <td>0.000000</td>\n",
              "      <td>0.000000</td>\n",
              "      <td>0.000000</td>\n",
              "      <td>0.000000</td>\n",
              "      <td>0.000000</td>\n",
              "      <td>0.000000</td>\n",
              "      <td>0.000000</td>\n",
              "      <td>0.000000</td>\n",
              "      <td>0.000000</td>\n",
              "      <td>0.000000</td>\n",
              "      <td>0.000000</td>\n",
              "    </tr>\n",
              "    <tr>\n",
              "      <th>25%</th>\n",
              "      <td>0.045157</td>\n",
              "      <td>0.250586</td>\n",
              "      <td>1.000000</td>\n",
              "      <td>0.261905</td>\n",
              "      <td>0.000000</td>\n",
              "      <td>0.145161</td>\n",
              "      <td>0.000000</td>\n",
              "      <td>0.182759</td>\n",
              "      <td>0.000000</td>\n",
              "      <td>0.092634</td>\n",
              "      <td>0.256267</td>\n",
              "    </tr>\n",
              "    <tr>\n",
              "      <th>50%</th>\n",
              "      <td>0.116402</td>\n",
              "      <td>0.499766</td>\n",
              "      <td>1.000000</td>\n",
              "      <td>0.500000</td>\n",
              "      <td>0.500000</td>\n",
              "      <td>0.435484</td>\n",
              "      <td>0.333333</td>\n",
              "      <td>0.355172</td>\n",
              "      <td>0.000000</td>\n",
              "      <td>0.303824</td>\n",
              "      <td>0.500000</td>\n",
              "    </tr>\n",
              "    <tr>\n",
              "      <th>75%</th>\n",
              "      <td>0.226514</td>\n",
              "      <td>0.750351</td>\n",
              "      <td>1.000000</td>\n",
              "      <td>0.761905</td>\n",
              "      <td>1.000000</td>\n",
              "      <td>0.661290</td>\n",
              "      <td>1.000000</td>\n",
              "      <td>0.524138</td>\n",
              "      <td>0.000000</td>\n",
              "      <td>0.509777</td>\n",
              "      <td>0.749304</td>\n",
              "    </tr>\n",
              "    <tr>\n",
              "      <th>max</th>\n",
              "      <td>1.000000</td>\n",
              "      <td>1.000000</td>\n",
              "      <td>1.000000</td>\n",
              "      <td>1.000000</td>\n",
              "      <td>1.000000</td>\n",
              "      <td>1.000000</td>\n",
              "      <td>1.000000</td>\n",
              "      <td>1.000000</td>\n",
              "      <td>1.000000</td>\n",
              "      <td>1.000000</td>\n",
              "      <td>1.000000</td>\n",
              "    </tr>\n",
              "  </tbody>\n",
              "</table>\n",
              "</div>"
            ],
            "text/plain": [
              "       TransactionAmount  TransactionDate  TransactionType     Location  \\\n",
              "count        2156.000000      2156.000000      2156.000000  2156.000000   \n",
              "mean            0.162628         0.500007         0.774583     0.506858   \n",
              "std             0.158779         0.288958         0.417954     0.292963   \n",
              "min             0.000000         0.000000         0.000000     0.000000   \n",
              "25%             0.045157         0.250586         1.000000     0.261905   \n",
              "50%             0.116402         0.499766         1.000000     0.500000   \n",
              "75%             0.226514         0.750351         1.000000     0.761905   \n",
              "max             1.000000         1.000000         1.000000     1.000000   \n",
              "\n",
              "           Channel  CustomerAge  CustomerOccupation  TransactionDuration  \\\n",
              "count  2156.000000  2156.000000         2156.000000          2156.000000   \n",
              "mean      0.488868     0.430038            0.501237             0.379322   \n",
              "std       0.403714     0.288017            0.378391             0.244704   \n",
              "min       0.000000     0.000000            0.000000             0.000000   \n",
              "25%       0.000000     0.145161            0.000000             0.182759   \n",
              "50%       0.500000     0.435484            0.333333             0.355172   \n",
              "75%       1.000000     0.661290            1.000000             0.524138   \n",
              "max       1.000000     1.000000            1.000000             1.000000   \n",
              "\n",
              "       LoginAttempts  AccountBalance  PreviousTransactionDate  \n",
              "count    2156.000000     2156.000000              2156.000000  \n",
              "mean        0.029105        0.335235                 0.499211  \n",
              "std         0.143879        0.263511                 0.285808  \n",
              "min         0.000000        0.000000                 0.000000  \n",
              "25%         0.000000        0.092634                 0.256267  \n",
              "50%         0.000000        0.303824                 0.500000  \n",
              "75%         0.000000        0.509777                 0.749304  \n",
              "max         1.000000        1.000000                 1.000000  "
            ]
          },
          "execution_count": 20,
          "metadata": {},
          "output_type": "execute_result"
        }
      ],
      "source": [
        "# ## Gunakan describe untuk memastikan proses clustering menggunakan dataset hasil preprocessing\n",
        "# Lengkapi kode ini dengan mengubah nama DataFrame yang akan dilatih.\n",
        "# Kode harus digunakan dan dilarang menambahkan syntax lainnya pada cell ini.\n",
        "\n",
        "# Pastikan 'df' di sini adalah DataFrame Anda yang sudah di-scaling & encode\n",
        "df.describe()"
      ]
    },
    {
      "cell_type": "code",
      "execution_count": 21,
      "metadata": {
        "colab": {
          "base_uri": "https://localhost:8080/",
          "height": 541
        },
        "id": "hgYvwWOzM93L",
        "outputId": "672f26bc-0808-4500-9f0e-f0c8d68a2536"
      },
      "outputs": [
        {
          "data": {
            "image/png": "[encoded data removed]",
            "text/plain": [
              "<Figure size 800x550 with 1 Axes>"
            ]
          },
          "metadata": {},
          "output_type": "display_data"
        },
        {
          "name": "stdout",
          "output_type": "stream",
          "text": [
            "Jumlah cluster (K) optimal yang disarankan: 4\n"
          ]
        }
      ],
      "source": [
        "# Melakukan visualisasi Elbow Method menggunakan KElbowVisualizer()\n",
        "\n",
        "from sklearn.cluster import KMeans\n",
        "from yellowbrick.cluster import KElbowVisualizer\n",
        "\n",
        "model_elbow = KMeans(random_state=42, n_init=10)\n",
        "visualizer = KElbowVisualizer(model_elbow, k=(2, 11), metric='distortion', timings=False)\n",
        "\n",
        "visualizer.fit(df) # <-- SEKARANG SEHARUSNYA TIDAK ERROR KARENA df SUDAH BERSIH\n",
        "visualizer.show()\n",
        "\n",
        "optimal_k = visualizer.elbow_value_\n",
        "print(f\"Jumlah cluster (K) optimal yang disarankan: {optimal_k}\")"
      ]
    },
    {
      "cell_type": "code",
      "execution_count": 22,
      "metadata": {
        "id": "HvngRg-r4EcL"
      },
      "outputs": [
        {
          "name": "stdout",
          "output_type": "stream",
          "text": [
            "Model K-Means dengan K=4 berhasil dilatih.\n"
          ]
        }
      ],
      "source": [
        "# Menggunakan algoritma K-Means Clustering\n",
        "\n",
        "from sklearn.cluster import KMeans\n",
        "\n",
        "# Pastikan 'optimal_k' sudah ada\n",
        "if 'optimal_k' not in locals():\n",
        "    print(\"Nilai 'optimal_k' belum ada. Jalankan cell Elbow dulu.\")\n",
        "    optimal_k = 4 # Default jika gagal, ganti sesuai kebutuhan\n",
        "else:\n",
        "    # Buat model K-Means\n",
        "    model_kmeans = KMeans(n_clusters=optimal_k, random_state=42, n_init=10)\n",
        "\n",
        "    # Latih model K-Means\n",
        "    model_kmeans.fit(df)\n",
        "\n",
        "    print(f\"Model K-Means dengan K={optimal_k} berhasil dilatih.\")"
      ]
    },
    {
      "cell_type": "markdown",
      "metadata": {
        "id": "6aVHlHyU1Dcx"
      },
      "source": [
        "Jalankan cell code ini untuk menyimpan model kamu."
      ]
    },
    {
      "cell_type": "code",
      "execution_count": 23,
      "metadata": {
        "colab": {
          "base_uri": "https://localhost:8080/"
        },
        "id": "D7AvYmQnY_fI",
        "outputId": "2b430cc3-6e73-4af8-e6f5-2c93edb345ad"
      },
      "outputs": [
        {
          "name": "stdout",
          "output_type": "stream",
          "text": [
            "Model berhasil disimpan sebagai 'model_clustering.h5'\n"
          ]
        }
      ],
      "source": [
        "# ## Menyimpan model menggunakan joblib\n",
        "import joblib\n",
        "\n",
        "# Pastikan 'model_kmeans' adalah nama variabel model Anda\n",
        "joblib.dump(model_kmeans, \"model_clustering.h5\")\n",
        "\n",
        "print(\"Model berhasil disimpan sebagai 'model_clustering.h5'\")"
      ]
    },
    {
      "cell_type": "markdown",
      "metadata": {
        "id": "YDOD9eVMx3mC"
      },
      "source": [
        "(Opsional) Membangun Model Clustering [Skilled]\n",
        "\n",
        "**Biarkan kosong jika tidak menerapkan kriteria skilled**"
      ]
    },
    {
      "cell_type": "code",
      "execution_count": 24,
      "metadata": {
        "id": "SELNsH5O4Oyn"
      },
      "outputs": [],
      "source": [
        "# Menghitung dan menampilkan nilai Silhouette Score."
      ]
    },
    {
      "cell_type": "code",
      "execution_count": 25,
      "metadata": {
        "id": "K4EbkaXg4QAN"
      },
      "outputs": [],
      "source": [
        "# Membuat visualisasi hasil clustering"
      ]
    },
    {
      "cell_type": "markdown",
      "metadata": {
        "id": "uloMRbnsyAbB"
      },
      "source": [
        "(Opsional) Membangun Model Clustering [Advanced]\n",
        "\n",
        "**Biarkan kosong jika tidak menerapkan kriteria advanced**"
      ]
    },
    {
      "cell_type": "code",
      "execution_count": 26,
      "metadata": {
        "id": "SgfOarXX4SD2"
      },
      "outputs": [],
      "source": [
        "# Membangun model menggunakan PCA."
      ]
    },
    {
      "cell_type": "code",
      "execution_count": 27,
      "metadata": {
        "id": "uKvJy9Ky4VB3"
      },
      "outputs": [],
      "source": [
        "# Simpan model PCA sebagai perbandingan dengan menjalankan cell code ini joblib.dump(model,\"PCA_model_clustering.h5\")\n",
        "# joblib.dump(___, \"PCA_model_clustering.h5\")"
      ]
    },
    {
      "cell_type": "markdown",
      "metadata": {
        "id": "anlTI9Trb7F6"
      },
      "source": [
        "# **5. Interpretasi Cluster**"
      ]
    },
    {
      "cell_type": "markdown",
      "metadata": {
        "id": "JfgVMEBDS3KG"
      },
      "source": [
        "## **a. Interpretasi Hasil Clustering**\n",
        "1. **Contoh Interpretasi:**\n",
        "- **Cluster 1: (Nasabah Bertransaksi dan Pendapatan Besar)**:\n",
        "  - **Rata-rata (mean) Annual Income:** 0.953 (48,260)\n",
        "  - **Rata-rata (mean) Spending Score:** 0.8 (56.48)\n",
        "  - **Analisis:** Cluster ini mencakup pelanggan dengan pendapatan tahunan tinggi dan tingkat pengeluaran yang cukup tinggi. Pelanggan dalam cluster ini cenderung memiliki daya beli yang tinggi dan mereka lebih cenderung untuk membelanjakan sebagian besar pendapatan mereka. Sehingga rekomendasi pada kelompok nasabah ini adalah dengan menawarkan produk-produk investasi atau perbankan yang berkualitas tinggi.\n"
      ]
    },
    {
      "cell_type": "code",
      "execution_count": 28,
      "metadata": {
        "colab": {
          "base_uri": "https://localhost:8080/"
        },
        "id": "Qmpy4fmV64Mi",
        "outputId": "b6ee5cbd-3160-4d6b-9ca0-4cbd2107a284"
      },
      "outputs": [
        {
          "data": {
            "text/html": [
              "<div>\n",
              "<style scoped>\n",
              "    .dataframe tbody tr th:only-of-type {\n",
              "        vertical-align: middle;\n",
              "    }\n",
              "\n",
              "    .dataframe tbody tr th {\n",
              "        vertical-align: top;\n",
              "    }\n",
              "\n",
              "    .dataframe thead th {\n",
              "        text-align: right;\n",
              "    }\n",
              "</style>\n",
              "<table border=\"1\" class=\"dataframe\">\n",
              "  <thead>\n",
              "    <tr style=\"text-align: right;\">\n",
              "      <th></th>\n",
              "      <th>Cluster</th>\n",
              "      <th>0</th>\n",
              "      <th>1</th>\n",
              "      <th>2</th>\n",
              "      <th>3</th>\n",
              "    </tr>\n",
              "  </thead>\n",
              "  <tbody>\n",
              "    <tr>\n",
              "      <th rowspan=\"5\" valign=\"top\">TransactionAmount</th>\n",
              "      <th>count</th>\n",
              "      <td>449.000000</td>\n",
              "      <td>493.000000</td>\n",
              "      <td>486.000000</td>\n",
              "      <td>728.000000</td>\n",
              "    </tr>\n",
              "    <tr>\n",
              "      <th>mean</th>\n",
              "      <td>0.170146</td>\n",
              "      <td>0.155430</td>\n",
              "      <td>0.168618</td>\n",
              "      <td>0.158868</td>\n",
              "    </tr>\n",
              "    <tr>\n",
              "      <th>std</th>\n",
              "      <td>0.173372</td>\n",
              "      <td>0.152602</td>\n",
              "      <td>0.158963</td>\n",
              "      <td>0.153240</td>\n",
              "    </tr>\n",
              "    <tr>\n",
              "      <th>min</th>\n",
              "      <td>0.000000</td>\n",
              "      <td>0.000033</td>\n",
              "      <td>0.000967</td>\n",
              "      <td>0.000104</td>\n",
              "    </tr>\n",
              "    <tr>\n",
              "      <th>25%</th>\n",
              "      <td>0.045014</td>\n",
              "      <td>0.042971</td>\n",
              "      <td>0.044350</td>\n",
              "      <td>0.047166</td>\n",
              "    </tr>\n",
              "    <tr>\n",
              "      <th>...</th>\n",
              "      <th>...</th>\n",
              "      <td>...</td>\n",
              "      <td>...</td>\n",
              "      <td>...</td>\n",
              "      <td>...</td>\n",
              "    </tr>\n",
              "    <tr>\n",
              "      <th rowspan=\"5\" valign=\"top\">PreviousTransactionDate</th>\n",
              "      <th>min</th>\n",
              "      <td>0.002786</td>\n",
              "      <td>0.002786</td>\n",
              "      <td>0.000000</td>\n",
              "      <td>0.000000</td>\n",
              "    </tr>\n",
              "    <tr>\n",
              "      <th>25%</th>\n",
              "      <td>0.264624</td>\n",
              "      <td>0.245125</td>\n",
              "      <td>0.235376</td>\n",
              "      <td>0.261838</td>\n",
              "    </tr>\n",
              "    <tr>\n",
              "      <th>50%</th>\n",
              "      <td>0.501393</td>\n",
              "      <td>0.509749</td>\n",
              "      <td>0.484680</td>\n",
              "      <td>0.504178</td>\n",
              "    </tr>\n",
              "    <tr>\n",
              "      <th>75%</th>\n",
              "      <td>0.718663</td>\n",
              "      <td>0.774373</td>\n",
              "      <td>0.749304</td>\n",
              "      <td>0.746518</td>\n",
              "    </tr>\n",
              "    <tr>\n",
              "      <th>max</th>\n",
              "      <td>0.997214</td>\n",
              "      <td>1.000000</td>\n",
              "      <td>1.000000</td>\n",
              "      <td>0.997214</td>\n",
              "    </tr>\n",
              "  </tbody>\n",
              "</table>\n",
              "<p>88 rows × 4 columns</p>\n",
              "</div>"
            ],
            "text/plain": [
              "Cluster                                 0           1           2           3\n",
              "TransactionAmount       count  449.000000  493.000000  486.000000  728.000000\n",
              "                        mean     0.170146    0.155430    0.168618    0.158868\n",
              "                        std      0.173372    0.152602    0.158963    0.153240\n",
              "                        min      0.000000    0.000033    0.000967    0.000104\n",
              "                        25%      0.045014    0.042971    0.044350    0.047166\n",
              "...                                   ...         ...         ...         ...\n",
              "PreviousTransactionDate min      0.002786    0.002786    0.000000    0.000000\n",
              "                        25%      0.264624    0.245125    0.235376    0.261838\n",
              "                        50%      0.501393    0.509749    0.484680    0.504178\n",
              "                        75%      0.718663    0.774373    0.749304    0.746518\n",
              "                        max      0.997214    1.000000    1.000000    0.997214\n",
              "\n",
              "[88 rows x 4 columns]"
            ]
          },
          "execution_count": 28,
          "metadata": {},
          "output_type": "execute_result"
        }
      ],
      "source": [
        "# ## 5. Interpretasi Cluster\n",
        "# Menampilkan analisis deskriptif minimal mean, min dan max untuk fitur numerik.\n",
        "\n",
        "# Tambahkan label cluster ke df yang sudah di-scale/encode\n",
        "df['Cluster'] = model_kmeans.labels_\n",
        "\n",
        "# Tampilkan describe berdasarkan cluster\n",
        "df.groupby('Cluster').describe().T\n"
      ]
    },
    {
      "cell_type": "code",
      "execution_count": 29,
      "metadata": {},
      "outputs": [
        {
          "name": "stdout",
          "output_type": "stream",
          "text": [
            "Menyiapkan data untuk cluster_summary...\n",
            "\n",
            "--- Tabel Cluster Summary (Gunakan ini untuk Interpretasi) ---\n"
          ]
        },
        {
          "data": {
            "text/html": [
              "<div>\n",
              "<style scoped>\n",
              "    .dataframe tbody tr th:only-of-type {\n",
              "        vertical-align: middle;\n",
              "    }\n",
              "\n",
              "    .dataframe tbody tr th {\n",
              "        vertical-align: top;\n",
              "    }\n",
              "\n",
              "    .dataframe thead tr th {\n",
              "        text-align: left;\n",
              "    }\n",
              "\n",
              "    .dataframe thead tr:last-of-type th {\n",
              "        text-align: right;\n",
              "    }\n",
              "</style>\n",
              "<table border=\"1\" class=\"dataframe\">\n",
              "  <thead>\n",
              "    <tr>\n",
              "      <th></th>\n",
              "      <th colspan=\"3\" halign=\"left\">TransactionAmount</th>\n",
              "      <th colspan=\"3\" halign=\"left\">CustomerAge</th>\n",
              "      <th colspan=\"3\" halign=\"left\">TransactionDuration</th>\n",
              "      <th colspan=\"3\" halign=\"left\">LoginAttempts</th>\n",
              "      <th colspan=\"3\" halign=\"left\">AccountBalance</th>\n",
              "      <th>TransactionDate</th>\n",
              "      <th>TransactionType</th>\n",
              "      <th>Location</th>\n",
              "      <th>Channel</th>\n",
              "      <th>CustomerOccupation</th>\n",
              "      <th>PreviousTransactionDate</th>\n",
              "    </tr>\n",
              "    <tr>\n",
              "      <th></th>\n",
              "      <th>min</th>\n",
              "      <th>mean</th>\n",
              "      <th>max</th>\n",
              "      <th>min</th>\n",
              "      <th>mean</th>\n",
              "      <th>max</th>\n",
              "      <th>min</th>\n",
              "      <th>mean</th>\n",
              "      <th>max</th>\n",
              "      <th>min</th>\n",
              "      <th>...</th>\n",
              "      <th>max</th>\n",
              "      <th>min</th>\n",
              "      <th>mean</th>\n",
              "      <th>max</th>\n",
              "      <th>&lt;lambda&gt;</th>\n",
              "      <th>&lt;lambda&gt;</th>\n",
              "      <th>&lt;lambda&gt;</th>\n",
              "      <th>&lt;lambda&gt;</th>\n",
              "      <th>&lt;lambda&gt;</th>\n",
              "      <th>&lt;lambda&gt;</th>\n",
              "    </tr>\n",
              "    <tr>\n",
              "      <th>Cluster</th>\n",
              "      <th></th>\n",
              "      <th></th>\n",
              "      <th></th>\n",
              "      <th></th>\n",
              "      <th></th>\n",
              "      <th></th>\n",
              "      <th></th>\n",
              "      <th></th>\n",
              "      <th></th>\n",
              "      <th></th>\n",
              "      <th></th>\n",
              "      <th></th>\n",
              "      <th></th>\n",
              "      <th></th>\n",
              "      <th></th>\n",
              "      <th></th>\n",
              "      <th></th>\n",
              "      <th></th>\n",
              "      <th></th>\n",
              "      <th></th>\n",
              "      <th></th>\n",
              "    </tr>\n",
              "  </thead>\n",
              "  <tbody>\n",
              "    <tr>\n",
              "      <th>0</th>\n",
              "      <td>0.26</td>\n",
              "      <td>311.756437</td>\n",
              "      <td>1762.28</td>\n",
              "      <td>18.0</td>\n",
              "      <td>22.982183</td>\n",
              "      <td>28.0</td>\n",
              "      <td>11.0</td>\n",
              "      <td>119.171492</td>\n",
              "      <td>299.0</td>\n",
              "      <td>1.0</td>\n",
              "      <td>...</td>\n",
              "      <td>5.0</td>\n",
              "      <td>102.20</td>\n",
              "      <td>1525.224543</td>\n",
              "      <td>9963.39</td>\n",
              "      <td>2023-01-09 16:08:52</td>\n",
              "      <td>Debit</td>\n",
              "      <td>Miami</td>\n",
              "      <td>ATM</td>\n",
              "      <td>Student</td>\n",
              "      <td>2024-11-04 08:07:18</td>\n",
              "    </tr>\n",
              "    <tr>\n",
              "      <th>1</th>\n",
              "      <td>0.32</td>\n",
              "      <td>284.814402</td>\n",
              "      <td>1612.37</td>\n",
              "      <td>26.0</td>\n",
              "      <td>52.979716</td>\n",
              "      <td>80.0</td>\n",
              "      <td>11.0</td>\n",
              "      <td>119.200811</td>\n",
              "      <td>300.0</td>\n",
              "      <td>1.0</td>\n",
              "      <td>...</td>\n",
              "      <td>5.0</td>\n",
              "      <td>112.76</td>\n",
              "      <td>6298.040243</td>\n",
              "      <td>14977.99</td>\n",
              "      <td>2023-01-02 16:45:05</td>\n",
              "      <td>Debit</td>\n",
              "      <td>Omaha</td>\n",
              "      <td>ATM</td>\n",
              "      <td>Doctor</td>\n",
              "      <td>2024-11-04 08:10:12</td>\n",
              "    </tr>\n",
              "    <tr>\n",
              "      <th>2</th>\n",
              "      <td>2.03</td>\n",
              "      <td>308.958416</td>\n",
              "      <td>1831.02</td>\n",
              "      <td>18.0</td>\n",
              "      <td>46.162551</td>\n",
              "      <td>80.0</td>\n",
              "      <td>10.0</td>\n",
              "      <td>119.709877</td>\n",
              "      <td>294.0</td>\n",
              "      <td>1.0</td>\n",
              "      <td>...</td>\n",
              "      <td>5.0</td>\n",
              "      <td>105.01</td>\n",
              "      <td>5296.088683</td>\n",
              "      <td>14935.50</td>\n",
              "      <td>2023-10-20 17:53:13</td>\n",
              "      <td>Credit</td>\n",
              "      <td>Austin</td>\n",
              "      <td>Branch</td>\n",
              "      <td>Retired</td>\n",
              "      <td>2024-11-04 08:08:39</td>\n",
              "    </tr>\n",
              "    <tr>\n",
              "      <th>3</th>\n",
              "      <td>0.45</td>\n",
              "      <td>291.109162</td>\n",
              "      <td>1830.00</td>\n",
              "      <td>26.0</td>\n",
              "      <td>51.399725</td>\n",
              "      <td>80.0</td>\n",
              "      <td>10.0</td>\n",
              "      <td>121.255495</td>\n",
              "      <td>300.0</td>\n",
              "      <td>1.0</td>\n",
              "      <td>...</td>\n",
              "      <td>5.0</td>\n",
              "      <td>120.89</td>\n",
              "      <td>6330.217720</td>\n",
              "      <td>14904.90</td>\n",
              "      <td>2023-02-24 16:29:23</td>\n",
              "      <td>Debit</td>\n",
              "      <td>Charlotte</td>\n",
              "      <td>Branch</td>\n",
              "      <td>Engineer</td>\n",
              "      <td>2024-11-04 08:11:43</td>\n",
              "    </tr>\n",
              "  </tbody>\n",
              "</table>\n",
              "<p>4 rows × 21 columns</p>\n",
              "</div>"
            ],
            "text/plain": [
              "        TransactionAmount                      CustomerAge                   \\\n",
              "                      min        mean      max         min       mean   max   \n",
              "Cluster                                                                       \n",
              "0                    0.26  311.756437  1762.28        18.0  22.982183  28.0   \n",
              "1                    0.32  284.814402  1612.37        26.0  52.979716  80.0   \n",
              "2                    2.03  308.958416  1831.02        18.0  46.162551  80.0   \n",
              "3                    0.45  291.109162  1830.00        26.0  51.399725  80.0   \n",
              "\n",
              "        TransactionDuration                    LoginAttempts  ...       \\\n",
              "                        min        mean    max           min  ...  max   \n",
              "Cluster                                                       ...        \n",
              "0                      11.0  119.171492  299.0           1.0  ...  5.0   \n",
              "1                      11.0  119.200811  300.0           1.0  ...  5.0   \n",
              "2                      10.0  119.709877  294.0           1.0  ...  5.0   \n",
              "3                      10.0  121.255495  300.0           1.0  ...  5.0   \n",
              "\n",
              "        AccountBalance                             TransactionDate  \\\n",
              "                   min         mean       max             <lambda>   \n",
              "Cluster                                                              \n",
              "0               102.20  1525.224543   9963.39  2023-01-09 16:08:52   \n",
              "1               112.76  6298.040243  14977.99  2023-01-02 16:45:05   \n",
              "2               105.01  5296.088683  14935.50  2023-10-20 17:53:13   \n",
              "3               120.89  6330.217720  14904.90  2023-02-24 16:29:23   \n",
              "\n",
              "        TransactionType   Location  Channel CustomerOccupation  \\\n",
              "               <lambda>   <lambda> <lambda>           <lambda>   \n",
              "Cluster                                                          \n",
              "0                 Debit      Miami      ATM            Student   \n",
              "1                 Debit      Omaha      ATM             Doctor   \n",
              "2                Credit     Austin   Branch            Retired   \n",
              "3                 Debit  Charlotte   Branch           Engineer   \n",
              "\n",
              "        PreviousTransactionDate  \n",
              "                       <lambda>  \n",
              "Cluster                          \n",
              "0           2024-11-04 08:07:18  \n",
              "1           2024-11-04 08:10:12  \n",
              "2           2024-11-04 08:08:39  \n",
              "3           2024-11-04 08:11:43  \n",
              "\n",
              "[4 rows x 21 columns]"
            ]
          },
          "metadata": {},
          "output_type": "display_data"
        }
      ],
      "source": [
        "# ## Menampilkan analisis deskriptif (Membuat cluster_summary)\n",
        "\n",
        "import numpy as np # Pastikan numpy sudah di-import\n",
        "\n",
        "print(\"Menyiapkan data untuk cluster_summary...\")\n",
        "\n",
        "# Pastikan model_kmeans sudah ada dan df_for_interpretation sudah dibuat\n",
        "if 'model_kmeans' not in locals() or 'df_for_interpretation' not in locals():\n",
        "    print(\"ERROR: Pastikan 'model_kmeans' sudah dilatih dan 'df_for_interpretation' sudah dibuat di Section 3.\")\n",
        "else:\n",
        "    # Tambahkan label cluster ke df_for_interpretation\n",
        "    # Kita pakai .values untuk memastikan tidak ada masalah index jika dropna mengubahnya\n",
        "    df_for_interpretation['Cluster'] = model_kmeans.labels_\n",
        "\n",
        "    # Pisahkan fitur numerik & kategorikal DARI df_for_interpretation\n",
        "    numerical_features = df_for_interpretation.select_dtypes(include=np.number).columns.drop('Cluster').tolist()\n",
        "    categorical_features = df_for_interpretation.select_dtypes(include=['object', 'category']).columns.tolist()\n",
        "\n",
        "    # Buat dictionary untuk fungsi agregasi\n",
        "    agg_functions = {}\n",
        "    for col in numerical_features:\n",
        "        agg_functions[col] = ['min', 'mean', 'max']\n",
        "    for col in categorical_features:\n",
        "        agg_functions[col] = lambda x: x.mode()[0] if not x.mode().empty else 'N/A'\n",
        "\n",
        "    # Lakukan groupby berdasarkan 'Cluster' dan terapkan agregasi\n",
        "    cluster_summary = df_for_interpretation.groupby('Cluster').agg(agg_functions)\n",
        "\n",
        "    print(\"\\n--- Tabel Cluster Summary (Gunakan ini untuk Interpretasi) ---\")\n",
        "    display(cluster_summary)"
      ]
    },
    {
      "cell_type": "markdown",
      "metadata": {
        "id": "KrjMI_dG6tnb"
      },
      "source": [
        "## Hasil\n",
        "\n",
        "### Hasil Clustering\n",
        "\n",
        "Berdasarkan pemodelan K-Means, didapatkan jumlah *cluster* optimal sebanyak **4**. Berikut adalah interpretasi untuk masing-masing *cluster* berdasarkan hasil agregasi data:\n",
        "\n",
        "* **Klaster 0:** Klaster ini memiliki karakteristik utama yaitu:\n",
        "    * **TransactionAmount**: Rata-rata **[Isi Rata2 TransactionAmount K0]** (Min: **[Isi Min TransactionAmount K0]**, Max: **[Isi Max TransactionAmount K0]**).\n",
        "    * **CustomerAge**: Rata-rata **[Isi Rata2 CustomerAge K0]** (Min: **[Isi Min CustomerAge K0]**, Max: **[Isi Max CustomerAge K0]**).\n",
        "    * **TransactionType (Modus)**: **[Isi Modus TransactionType K0]**.\n",
        "    * **Channel (Modus)**: **[Isi Modus Channel K0]**.\n",
        "    * **Analisis:** Pelanggan di *cluster* ini cenderung [Jelaskan Kesimpulan Anda untuk Cluster 0 berdasarkan data di atas, misal: adalah pelanggan paruh baya dengan transaksi sedang yang sering menggunakan channel X].\n",
        "\n",
        "* **Klaster 1:** Klaster ini memiliki karakteristik utama yaitu:\n",
        "    * **TransactionAmount**: Rata-rata **[Isi Rata2 TransactionAmount K1]** (Min: **[Isi Min TransactionAmount K1]**, Max: **[Isi Max TransactionAmount K1]**).\n",
        "    * **CustomerAge**: Rata-rata **[Isi Rata2 CustomerAge K1]** (Min: **[Isi Min CustomerAge K1]**, Max: **[Isi Max CustomerAge K1]**).\n",
        "    * **TransactionType (Modus)**: **[Isi Modus TransactionType K1]**.\n",
        "    * **Channel (Modus)**: **[Isi Modus Channel K1]**.\n",
        "    * **Analisis:** Pelanggan di *cluster* ini cenderung [Jelaskan Kesimpulan Anda untuk Cluster 1, misal: adalah pelanggan muda dengan transaksi kecil yang sering melakukan pembelian].\n",
        "\n",
        "* **Klaster 2:** Klaster ini memiliki karakteristik utama yaitu:\n",
        "    * **TransactionAmount**: Rata-rata **[Isi Rata2 TransactionAmount K2]** (Min: **[Isi Min TransactionAmount K2]**, Max: **[Isi Max TransactionAmount K2]**).\n",
        "    * **CustomerAge**: Rata-rata **[Isi Rata2 CustomerAge K2]** (Min: **[Isi Min CustomerAge K2]**, Max: **[Isi Max CustomerAge K2]**).\n",
        "    * **TransactionType (Modus)**: **[Isi Modus TransactionType K2]**.\n",
        "    * **Channel (Modus)**: **[Isi Modus Channel K2]**.\n",
        "    * **Analisis:** Pelanggan di *cluster* ini cenderung [Jelaskan Kesimpulan Anda untuk Cluster 2, misal: adalah pelanggan senior dengan transaksi besar yang jarang login].\n",
        "\n",
        "* **Klaster 3:** Klaster ini memiliki karakteristik utama yaitu:\n",
        "    * **TransactionAmount**: Rata-rata **[Isi Rata2 TransactionAmount K3]** (Min: **[Isi Min TransactionAmount K3]**, Max: **[Isi Max TransactionAmount K3]**).\n",
        "    * **CustomerAge**: Rata-rata **[Isi Rata2 CustomerAge K3]** (Min: **[Isi Min CustomerAge K3]**, Max: **[Isi Max CustomerAge K3]**).\n",
        "    * **TransactionType (Modus)**: **[Isi Modus TransactionType K3]**.\n",
        "    * **Channel (Modus)**: **[Isi Modus Channel K3]**.\n",
        "    * **Analisis:** Pelanggan di *cluster* ini cenderung [Jelaskan Kesimpulan Anda untuk Cluster 3].\n",
        "\n",
        "\n",
        "\n",
        "### Hasil Klasifikasi\n",
        "\n",
        "* Model Decision Tree mencapai akurasi **[Isi akurasi DT Anda] %** dan F1-Score **[Isi F1 DT Anda]**.\n",
        "* (Jika ada) Model [Nama Model Lain] mencapai akurasi **[Isi akurasi lain] %** dan F1-Score **[Isi F1 lain]**.\n",
        "* (Jika ada) Setelah *tuning*, model [Nama Model] mencapai akurasi **[Isi akurasi tuning] %** dan F1-Score **[Isi F1 tuning]**."
      ]
    },
    {
      "cell_type": "markdown",
      "metadata": {
        "id": "jaYP1fx5VgWO"
      },
      "source": [
        "# **6. Mengeksport Data**\n",
        "\n",
        "1. Simpan nama kolom hasil clustering dengan nama `Target`.\n",
        "2. Simpan hasilnya ke dalam file CSV menggunakan function `to_csv()`."
      ]
    },
    {
      "cell_type": "code",
      "execution_count": 30,
      "metadata": {
        "colab": {
          "base_uri": "https://localhost:8080/"
        },
        "id": "3FInN10U5S4f",
        "outputId": "2035d528-8daf-455f-ce13-2eb0b64be17e"
      },
      "outputs": [
        {
          "name": "stdout",
          "output_type": "stream",
          "text": [
            "Kolom 'Target' ditambahkan/diubah:\n"
          ]
        },
        {
          "data": {
            "text/html": [
              "<div>\n",
              "<style scoped>\n",
              "    .dataframe tbody tr th:only-of-type {\n",
              "        vertical-align: middle;\n",
              "    }\n",
              "\n",
              "    .dataframe tbody tr th {\n",
              "        vertical-align: top;\n",
              "    }\n",
              "\n",
              "    .dataframe thead th {\n",
              "        text-align: right;\n",
              "    }\n",
              "</style>\n",
              "<table border=\"1\" class=\"dataframe\">\n",
              "  <thead>\n",
              "    <tr style=\"text-align: right;\">\n",
              "      <th></th>\n",
              "      <th>TransactionAmount</th>\n",
              "      <th>TransactionDate</th>\n",
              "      <th>TransactionType</th>\n",
              "      <th>Location</th>\n",
              "      <th>Channel</th>\n",
              "      <th>CustomerAge</th>\n",
              "      <th>CustomerOccupation</th>\n",
              "      <th>TransactionDuration</th>\n",
              "      <th>LoginAttempts</th>\n",
              "      <th>AccountBalance</th>\n",
              "      <th>PreviousTransactionDate</th>\n",
              "      <th>Target</th>\n",
              "    </tr>\n",
              "  </thead>\n",
              "  <tbody>\n",
              "    <tr>\n",
              "      <th>0</th>\n",
              "      <td>0.007554</td>\n",
              "      <td>0.276945</td>\n",
              "      <td>1.0</td>\n",
              "      <td>0.857143</td>\n",
              "      <td>0.0</td>\n",
              "      <td>0.838710</td>\n",
              "      <td>0.0</td>\n",
              "      <td>0.244828</td>\n",
              "      <td>0.0</td>\n",
              "      <td>0.336790</td>\n",
              "      <td>0.292479</td>\n",
              "      <td>1</td>\n",
              "    </tr>\n",
              "    <tr>\n",
              "      <th>1</th>\n",
              "      <td>0.205368</td>\n",
              "      <td>0.483130</td>\n",
              "      <td>1.0</td>\n",
              "      <td>0.357143</td>\n",
              "      <td>0.0</td>\n",
              "      <td>0.806452</td>\n",
              "      <td>0.0</td>\n",
              "      <td>0.451724</td>\n",
              "      <td>0.0</td>\n",
              "      <td>0.918049</td>\n",
              "      <td>0.534819</td>\n",
              "      <td>1</td>\n",
              "    </tr>\n",
              "    <tr>\n",
              "      <th>2</th>\n",
              "      <td>0.068840</td>\n",
              "      <td>0.514058</td>\n",
              "      <td>1.0</td>\n",
              "      <td>0.547619</td>\n",
              "      <td>1.0</td>\n",
              "      <td>0.016129</td>\n",
              "      <td>1.0</td>\n",
              "      <td>0.158621</td>\n",
              "      <td>0.0</td>\n",
              "      <td>0.068578</td>\n",
              "      <td>0.114206</td>\n",
              "      <td>0</td>\n",
              "    </tr>\n",
              "    <tr>\n",
              "      <th>3</th>\n",
              "      <td>0.100636</td>\n",
              "      <td>0.333646</td>\n",
              "      <td>1.0</td>\n",
              "      <td>0.785714</td>\n",
              "      <td>1.0</td>\n",
              "      <td>0.129032</td>\n",
              "      <td>1.0</td>\n",
              "      <td>0.051724</td>\n",
              "      <td>0.0</td>\n",
              "      <td>0.569170</td>\n",
              "      <td>0.454039</td>\n",
              "      <td>0</td>\n",
              "    </tr>\n",
              "    <tr>\n",
              "      <th>5</th>\n",
              "      <td>0.050192</td>\n",
              "      <td>0.257732</td>\n",
              "      <td>1.0</td>\n",
              "      <td>0.666667</td>\n",
              "      <td>0.0</td>\n",
              "      <td>0.000000</td>\n",
              "      <td>1.0</td>\n",
              "      <td>0.558621</td>\n",
              "      <td>0.0</td>\n",
              "      <td>0.045677</td>\n",
              "      <td>0.036212</td>\n",
              "      <td>0</td>\n",
              "    </tr>\n",
              "  </tbody>\n",
              "</table>\n",
              "</div>"
            ],
            "text/plain": [
              "   TransactionAmount  TransactionDate  TransactionType  Location  Channel  \\\n",
              "0           0.007554         0.276945              1.0  0.857143      0.0   \n",
              "1           0.205368         0.483130              1.0  0.357143      0.0   \n",
              "2           0.068840         0.514058              1.0  0.547619      1.0   \n",
              "3           0.100636         0.333646              1.0  0.785714      1.0   \n",
              "5           0.050192         0.257732              1.0  0.666667      0.0   \n",
              "\n",
              "   CustomerAge  CustomerOccupation  TransactionDuration  LoginAttempts  \\\n",
              "0     0.838710                 0.0             0.244828            0.0   \n",
              "1     0.806452                 0.0             0.451724            0.0   \n",
              "2     0.016129                 1.0             0.158621            0.0   \n",
              "3     0.129032                 1.0             0.051724            0.0   \n",
              "5     0.000000                 1.0             0.558621            0.0   \n",
              "\n",
              "   AccountBalance  PreviousTransactionDate  Target  \n",
              "0        0.336790                 0.292479       1  \n",
              "1        0.918049                 0.534819       1  \n",
              "2        0.068578                 0.114206       0  \n",
              "3        0.569170                 0.454039       0  \n",
              "5        0.045677                 0.036212       0  "
            ]
          },
          "execution_count": 30,
          "metadata": {},
          "output_type": "execute_result"
        }
      ],
      "source": [
        "# ## 6. Mengeksport Data\n",
        "# Pastikan nama kolom clustering sudah diubah menjadi Target\n",
        "\n",
        "# Tambahkan kolom Cluster jika belum ada\n",
        "if 'Cluster' not in df.columns:\n",
        "    df['Cluster'] = model_kmeans.labels_\n",
        "\n",
        "# Ganti nama 'Cluster' menjadi 'Target'\n",
        "df = df.rename(columns={'Cluster': 'Target'})\n",
        "\n",
        "print(\"Kolom 'Target' ditambahkan/diubah:\")\n",
        "df.head()\n"
      ]
    },
    {
      "cell_type": "code",
      "execution_count": 31,
      "metadata": {
        "id": "fkbg_o80aRSH"
      },
      "outputs": [
        {
          "name": "stdout",
          "output_type": "stream",
          "text": [
            "Data berhasil disimpan sebagai 'data_clustering.csv'\n"
          ]
        }
      ],
      "source": [
        "# Simpan Data\n",
        "df.to_csv('data_clustering.csv', index=False)\n",
        "\n",
        "print(\"Data berhasil disimpan sebagai 'data_clustering.csv'\")"
      ]
    },
    {
      "cell_type": "markdown",
      "metadata": {
        "id": "rz1vFc2yzFPD"
      },
      "source": [
        "(Opsional) Interpretasi Hasil Clustering [Skilled]\n",
        "\n",
        "**Biarkan kosong jika tidak menerapkan kriteria skilled**"
      ]
    },
    {
      "cell_type": "code",
      "execution_count": null,
      "metadata": {
        "id": "OMcRV15y_hH3"
      },
      "outputs": [],
      "source": [
        "\n",
        "\n"
      ]
    },
    {
      "cell_type": "markdown",
      "metadata": {
        "id": "WcaT8sxVzLs6"
      },
      "source": [
        "## Menjelaskan karakteristik tiap cluster berdasarkan rentangnya setelah inverse.\n",
        "1. **Cluster 1: (___)**:\n",
        "  - **Rata-rata (mean) <Fitur>:** <Sebelum inverse> <Setelah inverse>\n",
        "  - **Analisis:** Cluster ini ..."
      ]
    },
    {
      "cell_type": "markdown",
      "metadata": {
        "id": "jSd6vZslzatv"
      },
      "source": [
        "(Opsional) Interpretasi Hasil Clustering [Advanced]\n",
        "\n",
        "**Biarkan kosong jika tidak menerapkan kriteria advanced**"
      ]
    },
    {
      "cell_type": "code",
      "execution_count": 32,
      "metadata": {
        "id": "4mGIyUZ2zRCP"
      },
      "outputs": [],
      "source": [
        "# Mengintegrasikan kembali data yang telah di-inverse dengan hasil cluster.\n"
      ]
    },
    {
      "cell_type": "code",
      "execution_count": 33,
      "metadata": {
        "id": "BEASz_Q__jms"
      },
      "outputs": [],
      "source": [
        "# Simpan Data\n",
        "# ___.to_csv('data_clustering_inverse.csv', index=False)\n"
      ]
    }
  ],
  "metadata": {
    "colab": {
      "provenance": []
    },
    "kernelspec": {
      "display_name": "Python 3",
      "name": "python3"
    },
    "language_info": {
      "codemirror_mode": {
        "name": "ipython",
        "version": 3
      },
      "file_extension": ".py",
      "mimetype": "text/x-python",
      "name": "python",
      "nbconvert_exporter": "python",
      "pygments_lexer": "ipython3",
      "version": "3.12.6"
    }
  },
  "nbformat": 4,
  "nbformat_minor": 0
}
