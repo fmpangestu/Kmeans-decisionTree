{
  "cells": [
    {
      "cell_type": "markdown",
      "metadata": {
        "id": "0tvAKGat01Sd"
      },
      "source": [
        "# **Penting**\n",
        "- Pastikan Anda melakukan Run All sebelum mengirimkan submission untuk memastikan seluruh cell berjalan dengan baik.\n",
        "- Hapus simbol pagar (#) jika Anda menerapkan kriteria tambahan\n",
        "- Biarkan simbol pagar (#) jika Anda tidak menerapkan kriteria tambahan"
      ]
    },
    {
      "cell_type": "markdown",
      "metadata": {
        "id": "fKADPWcFKlj3"
      },
      "source": [
        "# **1. Import Library**\n",
        "Pada tahap ini, Anda perlu mengimpor beberapa pustaka (library) Python yang dibutuhkan untuk analisis data dan pembangunan model machine learning."
      ]
    },
    {
      "cell_type": "code",
      "execution_count": 1,
      "metadata": {
        "id": "BlmvjLY9M4Yj"
      },
      "outputs": [
        {
          "name": "stdout",
          "output_type": "stream",
          "text": [
            "Library untuk Klasifikasi berhasil di-import.\n"
          ]
        }
      ],
      "source": [
        "# ## 1. Import Library\n",
        "import pandas as pd\n",
        "import numpy as np\n",
        "from sklearn.model_selection import train_test_split\n",
        "from sklearn.tree import DecisionTreeClassifier\n",
        "from sklearn.metrics import accuracy_score, precision_score, recall_score, f1_score, classification_report\n",
        "import joblib\n",
        "\n",
        "print(\"Library untuk Klasifikasi berhasil di-import.\")"
      ]
    },
    {
      "cell_type": "markdown",
      "metadata": {
        "id": "f3YIEnAFKrKL"
      },
      "source": [
        "# **2. Memuat Dataset dari Hasil Clustering**\n",
        "Memuat dataset hasil clustering dari file CSV ke dalam variabel DataFrame."
      ]
    },
    {
      "cell_type": "code",
      "execution_count": 2,
      "metadata": {
        "colab": {
          "base_uri": "https://localhost:8080/"
        },
        "id": "GHCGNTyrM5fS",
        "outputId": "c84373b1-386c-45f4-abd8-448566da6c0c"
      },
      "outputs": [
        {
          "name": "stdout",
          "output_type": "stream",
          "text": [
            "Dataset hasil clustering berhasil dimuat.\n"
          ]
        }
      ],
      "source": [
        "# ## 2. Memuat Dataset dari Hasil Clustering\n",
        "# Gunakan dataset hasil clustering yang memiliki fitur Target\n",
        "# Pastikan file 'data_clustering.csv' ada di direktori yang sama atau berikan path yang benar.\n",
        "df_class = pd.read_csv('data_clustering.csv')\n",
        "\n",
        "print(\"Dataset hasil clustering berhasil dimuat.\")"
      ]
    },
    {
      "cell_type": "code",
      "execution_count": 3,
      "metadata": {
        "colab": {
          "base_uri": "https://localhost:8080/"
        },
        "id": "bCsep0NZ0LUf",
        "outputId": "55aacda1-1c07-4538-d65e-01ad65143449"
      },
      "outputs": [
        {
          "name": "stdout",
          "output_type": "stream",
          "text": [
            "Lima baris pertama dataset klasifikasi:\n"
          ]
        },
        {
          "data": {
            "text/html": [
              "<div>\n",
              "<style scoped>\n",
              "    .dataframe tbody tr th:only-of-type {\n",
              "        vertical-align: middle;\n",
              "    }\n",
              "\n",
              "    .dataframe tbody tr th {\n",
              "        vertical-align: top;\n",
              "    }\n",
              "\n",
              "    .dataframe thead th {\n",
              "        text-align: right;\n",
              "    }\n",
              "</style>\n",
              "<table border=\"1\" class=\"dataframe\">\n",
              "  <thead>\n",
              "    <tr style=\"text-align: right;\">\n",
              "      <th></th>\n",
              "      <th>TransactionAmount</th>\n",
              "      <th>TransactionDate</th>\n",
              "      <th>TransactionType</th>\n",
              "      <th>Location</th>\n",
              "      <th>IP Address</th>\n",
              "      <th>Channel</th>\n",
              "      <th>CustomerAge</th>\n",
              "      <th>CustomerOccupation</th>\n",
              "      <th>TransactionDuration</th>\n",
              "      <th>LoginAttempts</th>\n",
              "      <th>AccountBalance</th>\n",
              "      <th>PreviousTransactionDate</th>\n",
              "      <th>Target</th>\n",
              "    </tr>\n",
              "  </thead>\n",
              "  <tbody>\n",
              "    <tr>\n",
              "      <th>0</th>\n",
              "      <td>0.007554</td>\n",
              "      <td>0.276945</td>\n",
              "      <td>1.0</td>\n",
              "      <td>0.857143</td>\n",
              "      <td>0.314530</td>\n",
              "      <td>0.0</td>\n",
              "      <td>0.838710</td>\n",
              "      <td>0.0</td>\n",
              "      <td>0.244828</td>\n",
              "      <td>0.0</td>\n",
              "      <td>0.336790</td>\n",
              "      <td>0.292479</td>\n",
              "      <td>3</td>\n",
              "    </tr>\n",
              "    <tr>\n",
              "      <th>1</th>\n",
              "      <td>0.205368</td>\n",
              "      <td>0.483130</td>\n",
              "      <td>1.0</td>\n",
              "      <td>0.357143</td>\n",
              "      <td>0.138462</td>\n",
              "      <td>0.0</td>\n",
              "      <td>0.806452</td>\n",
              "      <td>0.0</td>\n",
              "      <td>0.451724</td>\n",
              "      <td>0.0</td>\n",
              "      <td>0.918049</td>\n",
              "      <td>0.534819</td>\n",
              "      <td>3</td>\n",
              "    </tr>\n",
              "    <tr>\n",
              "      <th>2</th>\n",
              "      <td>0.068840</td>\n",
              "      <td>0.514058</td>\n",
              "      <td>1.0</td>\n",
              "      <td>0.547619</td>\n",
              "      <td>0.577778</td>\n",
              "      <td>1.0</td>\n",
              "      <td>0.016129</td>\n",
              "      <td>1.0</td>\n",
              "      <td>0.158621</td>\n",
              "      <td>0.0</td>\n",
              "      <td>0.068578</td>\n",
              "      <td>0.114206</td>\n",
              "      <td>2</td>\n",
              "    </tr>\n",
              "    <tr>\n",
              "      <th>3</th>\n",
              "      <td>0.100636</td>\n",
              "      <td>0.333646</td>\n",
              "      <td>1.0</td>\n",
              "      <td>0.785714</td>\n",
              "      <td>0.507692</td>\n",
              "      <td>1.0</td>\n",
              "      <td>0.129032</td>\n",
              "      <td>1.0</td>\n",
              "      <td>0.051724</td>\n",
              "      <td>0.0</td>\n",
              "      <td>0.569170</td>\n",
              "      <td>0.454039</td>\n",
              "      <td>2</td>\n",
              "    </tr>\n",
              "    <tr>\n",
              "      <th>4</th>\n",
              "      <td>0.050192</td>\n",
              "      <td>0.257732</td>\n",
              "      <td>1.0</td>\n",
              "      <td>0.666667</td>\n",
              "      <td>0.100855</td>\n",
              "      <td>0.0</td>\n",
              "      <td>0.000000</td>\n",
              "      <td>1.0</td>\n",
              "      <td>0.558621</td>\n",
              "      <td>0.0</td>\n",
              "      <td>0.045677</td>\n",
              "      <td>0.036212</td>\n",
              "      <td>2</td>\n",
              "    </tr>\n",
              "  </tbody>\n",
              "</table>\n",
              "</div>"
            ],
            "text/plain": [
              "   TransactionAmount  TransactionDate  TransactionType  Location  IP Address  \\\n",
              "0           0.007554         0.276945              1.0  0.857143    0.314530   \n",
              "1           0.205368         0.483130              1.0  0.357143    0.138462   \n",
              "2           0.068840         0.514058              1.0  0.547619    0.577778   \n",
              "3           0.100636         0.333646              1.0  0.785714    0.507692   \n",
              "4           0.050192         0.257732              1.0  0.666667    0.100855   \n",
              "\n",
              "   Channel  CustomerAge  CustomerOccupation  TransactionDuration  \\\n",
              "0      0.0     0.838710                 0.0             0.244828   \n",
              "1      0.0     0.806452                 0.0             0.451724   \n",
              "2      1.0     0.016129                 1.0             0.158621   \n",
              "3      1.0     0.129032                 1.0             0.051724   \n",
              "4      0.0     0.000000                 1.0             0.558621   \n",
              "\n",
              "   LoginAttempts  AccountBalance  PreviousTransactionDate  Target  \n",
              "0            0.0        0.336790                 0.292479       3  \n",
              "1            0.0        0.918049                 0.534819       3  \n",
              "2            0.0        0.068578                 0.114206       2  \n",
              "3            0.0        0.569170                 0.454039       2  \n",
              "4            0.0        0.045677                 0.036212       2  "
            ]
          },
          "execution_count": 3,
          "metadata": {},
          "output_type": "execute_result"
        }
      ],
      "source": [
        "# Tampilkan 5 baris pertama dengan function head.\n",
        "print(\"Lima baris pertama dataset klasifikasi:\")\n",
        "df_class.head()"
      ]
    },
    {
      "cell_type": "markdown",
      "metadata": {
        "id": "KkPem5eWL2UP"
      },
      "source": [
        "# **3. Data Splitting**\n",
        "Tahap Data Splitting bertujuan untuk memisahkan dataset menjadi dua bagian: data latih (training set) dan data uji (test set)."
      ]
    },
    {
      "cell_type": "code",
      "execution_count": 4,
      "metadata": {
        "id": "OubAW-7ONKVj"
      },
      "outputs": [
        {
          "name": "stdout",
          "output_type": "stream",
          "text": [
            "Ukuran X_train: (1724, 12)\n",
            "Ukuran X_test: (432, 12)\n",
            "Ukuran y_train: (1724,)\n",
            "Ukuran y_test: (432,)\n"
          ]
        }
      ],
      "source": [
        "# ## 3. Data Splitting\n",
        "# Menggunakan train_test_split() untuk melakukan pembagian dataset.\n",
        "\n",
        "# Pastikan kolom 'Target' ada\n",
        "if 'Target' not in df_class.columns:\n",
        "    raise ValueError(\"Kolom 'Target' tidak ditemukan. Pastikan file 'data_clustering.csv' sudah benar.\")\n",
        "\n",
        "# Pisahkan Fitur (X) dan Target (y)\n",
        "X = df_class.drop('Target', axis=1)\n",
        "y = df_class['Target']\n",
        "\n",
        "# Bagi data menjadi 80% latih dan 20% uji\n",
        "X_train, X_test, y_train, y_test = train_test_split(X, y, test_size=0.2, random_state=42, stratify=y)\n",
        "\n",
        "print(f\"Ukuran X_train: {X_train.shape}\")\n",
        "print(f\"Ukuran X_test: {X_test.shape}\")\n",
        "print(f\"Ukuran y_train: {y_train.shape}\")\n",
        "print(f\"Ukuran y_test: {y_test.shape}\")"
      ]
    },
    {
      "cell_type": "markdown",
      "metadata": {
        "id": "IVPbB03CMhTT"
      },
      "source": [
        "# **4. Membangun Model Klasifikasi**\n",
        "Setelah memilih algoritma klasifikasi yang sesuai, langkah selanjutnya adalah melatih model menggunakan data latih.\n",
        "\n",
        "Berikut adalah rekomendasi tahapannya.\n",
        "1. Menggunakan algoritma klasifikasi yaitu Decision Tree.\n",
        "2. Latih model menggunakan data yang sudah dipisah."
      ]
    },
    {
      "cell_type": "code",
      "execution_count": 5,
      "metadata": {
        "id": "4JYxBe87NLDk"
      },
      "outputs": [
        {
          "name": "stdout",
          "output_type": "stream",
          "text": [
            "Model Decision Tree berhasil dilatih.\n",
            "Akurasi Decision Tree (dasar): 1.0000\n"
          ]
        }
      ],
      "source": [
        "# ## 4. Membangun Model Klasifikasi\n",
        "# Buatlah model klasifikasi menggunakan Decision Tree\n",
        "dt_model = DecisionTreeClassifier(random_state=42)\n",
        "\n",
        "# Latih model menggunakan data latih\n",
        "dt_model.fit(X_train, y_train)\n",
        "\n",
        "print(\"Model Decision Tree berhasil dilatih.\")\n",
        "\n",
        "# (Opsional tapi bagus) Lakukan prediksi & evaluasi dasar di sini\n",
        "y_pred_dt = dt_model.predict(X_test)\n",
        "accuracy_dt = accuracy_score(y_test, y_pred_dt)\n",
        "print(f\"Akurasi Decision Tree (dasar): {accuracy_dt:.4f}\")"
      ]
    },
    {
      "cell_type": "code",
      "execution_count": 6,
      "metadata": {
        "colab": {
          "base_uri": "https://localhost:8080/"
        },
        "id": "P_AakAxghYv-",
        "outputId": "8edf503f-4ee4-418a-9811-650871d55db5"
      },
      "outputs": [
        {
          "name": "stdout",
          "output_type": "stream",
          "text": [
            "Model Decision Tree berhasil disimpan sebagai 'decision_tree_model.h5'\n"
          ]
        }
      ],
      "source": [
        "# ## Menyimpan Model\n",
        "import joblib\n",
        "\n",
        "# Simpan model Decision Tree\n",
        "joblib.dump(dt_model, 'decision_tree_model.h5')\n",
        "\n",
        "print(\"Model Decision Tree berhasil disimpan sebagai 'decision_tree_model.h5'\")"
      ]
    },
    {
      "cell_type": "markdown",
      "metadata": {
        "id": "epO4HhrzBXMg"
      },
      "source": [
        "# **5. Memenuhi Kriteria Skilled dan Advanced dalam Membangun Model Klasifikasi**\n",
        "\n"
      ]
    },
    {
      "cell_type": "markdown",
      "metadata": {
        "id": "DNOEZk24uiXu"
      },
      "source": [
        "**Biarkan kosong jika tidak menerapkan kriteria skilled atau advanced**"
      ]
    },
    {
      "cell_type": "code",
      "execution_count": 7,
      "metadata": {
        "id": "kB_8LIWMATl6"
      },
      "outputs": [
        {
          "name": "stdout",
          "output_type": "stream",
          "text": [
            "Melatih model K-Nearest Neighbors (KNN)...\n",
            "Model K-Nearest Neighbors (KNN) berhasil dilatih.\n"
          ]
        }
      ],
      "source": [
        "# ## Melatih model menggunakan algoritma klasifikasi selain Decision Tree.\n",
        "\n",
        "from sklearn.neighbors import KNeighborsClassifier\n",
        "from sklearn.metrics import classification_report # Kita butuh ini lagi\n",
        "\n",
        "print(\"Melatih model K-Nearest Neighbors (KNN)...\")\n",
        "\n",
        "# Inisialisasi model KNN (misalnya, dengan 5 tetangga)\n",
        "knn_model = KNeighborsClassifier(n_neighbors=5)\n",
        "\n",
        "# Latih model menggunakan data latih\n",
        "knn_model.fit(X_train, y_train)\n",
        "\n",
        "print(\"Model K-Nearest Neighbors (KNN) berhasil dilatih.\")\n",
        "\n",
        "# Lakukan prediksi dengan model KNN untuk evaluasi nanti\n",
        "y_pred_knn = knn_model.predict(X_test)"
      ]
    },
    {
      "cell_type": "code",
      "execution_count": 8,
      "metadata": {
        "id": "bRlKm5BVAT91"
      },
      "outputs": [
        {
          "name": "stdout",
          "output_type": "stream",
          "text": [
            "=========================================\n",
            "   Laporan Klasifikasi Decision Tree\n",
            "=========================================\n",
            "              precision    recall  f1-score   support\n",
            "\n",
            "           0       1.00      1.00      1.00        97\n",
            "           1       1.00      1.00      1.00       146\n",
            "           2       1.00      1.00      1.00        90\n",
            "           3       1.00      1.00      1.00        99\n",
            "\n",
            "    accuracy                           1.00       432\n",
            "   macro avg       1.00      1.00      1.00       432\n",
            "weighted avg       1.00      1.00      1.00       432\n",
            "\n",
            "\n",
            "=========================================\n",
            "   Laporan Klasifikasi K-Nearest Neighbors (KNN)\n",
            "=========================================\n",
            "              precision    recall  f1-score   support\n",
            "\n",
            "           0       1.00      1.00      1.00        97\n",
            "           1       1.00      1.00      1.00       146\n",
            "           2       1.00      1.00      1.00        90\n",
            "           3       1.00      1.00      1.00        99\n",
            "\n",
            "    accuracy                           1.00       432\n",
            "   macro avg       1.00      1.00      1.00       432\n",
            "weighted avg       1.00      1.00      1.00       432\n",
            "\n",
            "\n",
            "F1-Score Macro DT: 1.0000\n",
            "F1-Score Macro KNN: 1.0000\n",
            "\n",
            "Model Decision Tree memiliki F1-Score Macro lebih baik (atau sama).\n"
          ]
        }
      ],
      "source": [
        "# ## Menampilkan hasil evaluasi akurasi, presisi, recall, dan F1-Score\n",
        "\n",
        "# Pastikan y_pred_dt sudah ada dari Section 4, jika belum, jalankan lagi:\n",
        "# y_pred_dt = dt_model.predict(X_test)\n",
        "\n",
        "print(\"=========================================\")\n",
        "print(\"   Laporan Klasifikasi Decision Tree\")\n",
        "print(\"=========================================\")\n",
        "# Gunakan zero_division=0 untuk menghindari warning jika ada kelas tanpa prediksi\n",
        "print(classification_report(y_test, y_pred_dt, zero_division=0))\n",
        "\n",
        "print(\"\\n=========================================\")\n",
        "print(\"   Laporan Klasifikasi K-Nearest Neighbors (KNN)\")\n",
        "print(\"=========================================\")\n",
        "print(classification_report(y_test, y_pred_knn, zero_division=0))\n",
        "\n",
        "# Tentukan model mana yang terbaik berdasarkan metrik pilihan Anda (misal F1-score macro avg)\n",
        "f1_dt = f1_score(y_test, y_pred_dt, average='macro', zero_division=0)\n",
        "f1_knn = f1_score(y_test, y_pred_knn, average='macro', zero_division=0)\n",
        "\n",
        "print(f\"\\nF1-Score Macro DT: {f1_dt:.4f}\")\n",
        "print(f\"F1-Score Macro KNN: {f1_knn:.4f}\")\n",
        "\n",
        "if f1_knn > f1_dt:\n",
        "    print(\"\\nModel KNN memiliki F1-Score Macro lebih baik.\")\n",
        "    best_explore_model = knn_model\n",
        "    best_explore_name = 'KNN'\n",
        "else:\n",
        "    print(\"\\nModel Decision Tree memiliki F1-Score Macro lebih baik (atau sama).\")\n",
        "    # Jika DT lebih baik, Anda bisa memilih menyimpan DT atau KNN.\n",
        "    # Untuk contoh ini, kita simpan KNN jika lebih baik, jika tidak, kita bisa skip atau simpan KNN.\n",
        "    best_explore_model = knn_model # Tetap simpan KNN sebagai contoh explore\n",
        "    best_explore_name = 'KNN'"
      ]
    },
    {
      "cell_type": "code",
      "execution_count": 9,
      "metadata": {
        "id": "dUPItkbXBNkO"
      },
      "outputs": [
        {
          "name": "stdout",
          "output_type": "stream",
          "text": [
            "Model berhasil disimpan sebagai 'explore_KNN_classification.h5'\n"
          ]
        }
      ],
      "source": [
        "# ## Menyimpan Model Selain Decision Tree\n",
        "import joblib\n",
        "\n",
        "# Pastikan 'best_explore_model' dan 'best_explore_name' sudah ada dari cell sebelumnya\n",
        "if 'best_explore_model' in locals():\n",
        "    file_name = f'explore_{best_explore_name}_classification.h5'\n",
        "    joblib.dump(best_explore_model, file_name)\n",
        "    print(f\"Model berhasil disimpan sebagai '{file_name}'\")\n",
        "else:\n",
        "    print(\"Tidak ada model 'explore' untuk disimpan.\")"
      ]
    },
    {
      "cell_type": "markdown",
      "metadata": {
        "id": "u23H2guj-h9h"
      },
      "source": [
        "Hyperparameter Tuning Model\n",
        "\n",
        "Pilih salah satu algoritma yang ingin Anda tuning"
      ]
    },
    {
      "cell_type": "code",
      "execution_count": 10,
      "metadata": {
        "id": "dFCTxJJq-m-l"
      },
      "outputs": [
        {
          "name": "stdout",
          "output_type": "stream",
          "text": [
            "Melakukan Hyperparameter Tuning untuk Decision Tree...\n",
            "\n",
            "Parameter terbaik ditemukan: {'criterion': 'gini', 'max_depth': None, 'min_samples_leaf': 1, 'min_samples_split': 2}\n",
            "Model Decision Tree (Tuned) berhasil dilatih.\n"
          ]
        }
      ],
      "source": [
        "# ## Hyperparameter Tuning Model\n",
        "\n",
        "from sklearn.model_selection import GridSearchCV\n",
        "\n",
        "print(\"Melakukan Hyperparameter Tuning untuk Decision Tree...\")\n",
        "\n",
        "# Tentukan parameter grid yang ingin dicoba\n",
        "param_grid = {\n",
        "    'criterion': ['gini', 'entropy'],\n",
        "    'max_depth': [None, 5, 10, 15, 20],\n",
        "    'min_samples_split': [2, 5, 10],\n",
        "    'min_samples_leaf': [1, 2, 4]\n",
        "}\n",
        "\n",
        "# Buat objek GridSearchCV\n",
        "# cv=5 berarti 5-fold cross-validation\n",
        "grid_search = GridSearchCV(estimator=DecisionTreeClassifier(random_state=42),\n",
        "                           param_grid=param_grid,\n",
        "                           cv=5,\n",
        "                           scoring='f1_macro', # Fokus pada F1-score macro\n",
        "                           n_jobs=-1) # Gunakan semua core CPU\n",
        "\n",
        "# Lakukan pencarian hyperparameter pada data latih\n",
        "grid_search.fit(X_train, y_train)\n",
        "\n",
        "# Dapatkan model terbaik\n",
        "best_dt_tuned = grid_search.best_estimator_\n",
        "\n",
        "print(f\"\\nParameter terbaik ditemukan: {grid_search.best_params_}\")\n",
        "print(\"Model Decision Tree (Tuned) berhasil dilatih.\")"
      ]
    },
    {
      "cell_type": "code",
      "execution_count": 11,
      "metadata": {
        "id": "1g6EPSSWxjcQ"
      },
      "outputs": [
        {
          "name": "stdout",
          "output_type": "stream",
          "text": [
            "Mengevaluasi model Decision Tree hasil tuning...\n",
            "\n",
            "=========================================\n",
            "   Laporan Klasifikasi Decision Tree (Tuned)\n",
            "=========================================\n",
            "              precision    recall  f1-score   support\n",
            "\n",
            "           0       1.00      1.00      1.00        97\n",
            "           1       1.00      1.00      1.00       146\n",
            "           2       1.00      1.00      1.00        90\n",
            "           3       1.00      1.00      1.00        99\n",
            "\n",
            "    accuracy                           1.00       432\n",
            "   macro avg       1.00      1.00      1.00       432\n",
            "weighted avg       1.00      1.00      1.00       432\n",
            "\n",
            "\n",
            "F1-Score Macro DT (Tuned): 1.0000\n"
          ]
        }
      ],
      "source": [
        "# ## Menampilkan hasil evaluasi ... pada algoritma yang sudah dituning.\n",
        "\n",
        "print(\"Mengevaluasi model Decision Tree hasil tuning...\")\n",
        "\n",
        "# Lakukan prediksi dengan model hasil tuning\n",
        "y_pred_tuned = best_dt_tuned.predict(X_test)\n",
        "\n",
        "print(\"\\n=========================================\")\n",
        "print(\"   Laporan Klasifikasi Decision Tree (Tuned)\")\n",
        "print(\"=========================================\")\n",
        "print(classification_report(y_test, y_pred_tuned, zero_division=0))\n",
        "\n",
        "f1_tuned = f1_score(y_test, y_pred_tuned, average='macro', zero_division=0)\n",
        "print(f\"\\nF1-Score Macro DT (Tuned): {f1_tuned:.4f}\")"
      ]
    },
    {
      "cell_type": "code",
      "execution_count": 12,
      "metadata": {
        "id": "7UJNcVP--n7S"
      },
      "outputs": [
        {
          "name": "stdout",
          "output_type": "stream",
          "text": [
            "Model hasil tuning berhasil disimpan sebagai 'tuning_classification.h5'\n"
          ]
        }
      ],
      "source": [
        "# ## Menyimpan Model hasil tuning\n",
        "import joblib\n",
        "\n",
        "# Simpan model hasil tuning\n",
        "joblib.dump(best_dt_tuned, 'tuning_classification.h5')\n",
        "\n",
        "print(\"Model hasil tuning berhasil disimpan sebagai 'tuning_classification.h5'\")"
      ]
    }
  ],
  "metadata": {
    "colab": {
      "provenance": []
    },
    "kernelspec": {
      "display_name": "Python 3",
      "name": "python3"
    },
    "language_info": {
      "codemirror_mode": {
        "name": "ipython",
        "version": 3
      },
      "file_extension": ".py",
      "mimetype": "text/x-python",
      "name": "python",
      "nbconvert_exporter": "python",
      "pygments_lexer": "ipython3",
      "version": "3.12.6"
    }
  },
  "nbformat": 4,
  "nbformat_minor": 0
}
